{
 "cells": [
  {
   "cell_type": "code",
   "execution_count": null,
   "metadata": {},
   "outputs": [],
   "source": [
    "import cobra\n",
    "import numpy as np\n",
    "import pandas as pd\n",
    "DIRECTORY = './'\n",
    "cobraname = 'iML1515_duplicated'\n",
    "cobrafile = DIRECTORY+cobraname+'.xml'\n",
    "cobra_model_unchanged = cobra.io.read_sbml_model(cobrafile)\n",
    "default_biomass_id = \"BIOMASS_Ec_iML1515_core_75p37M\""
   ]
  },
  {
   "cell_type": "code",
   "execution_count": null,
   "metadata": {},
   "outputs": [
    {
     "name": "stdout",
     "output_type": "stream",
     "text": [
      "running normal FBA\n",
      "<Solution 0.877 at 0x17c37c29b88>\n",
      "849.0541157342763\n",
      "running pFBA\n",
      "(0.0, 1000.0)\n",
      "<Solution 769.790 at 0x17c36d94648>\n",
      "0.8769972144269759\n",
      "769.7902399146607\n"
     ]
    }
   ],
   "source": [
    "with cobra_model_unchanged as cobra_model:\n",
    "    print('running normal FBA')\n",
    "    ori_obj = cobra_model.objective\n",
    "    ori_coeffs = cobra.util.linear_reaction_coefficients(cobra_model)\n",
    "    \n",
    "\n",
    "    cobra_model.slim_optimize(error_value=None)\n",
    "    sol_fba = cobra.core.get_solution(cobra_model)\n",
    "    print(sol_fba)\n",
    "    print(sol_fba.fluxes.sum())\n",
    "\n",
    "with cobra_model_unchanged as cobra_model:\n",
    "    print(\"running pFBA\")\n",
    "    cobra.flux_analysis.parsimonious.add_pfba(cobra_model, objective=ori_obj)\n",
    "\n",
    "    new_coeffs = cobra.util.linear_reaction_coefficients(cobra_model)\n",
    "    new_obj = cobra_model.objective\n",
    "\n",
    "    cobra_model.slim_optimize()\n",
    "    sol_pfba = cobra.core.get_solution(cobra_model)\n",
    "\n",
    "    print(cobra_model.reactions.get_by_id(default_biomass_id).bounds)\n",
    "\n",
    "    print(sol_pfba)\n",
    "    print(sol_pfba.fluxes[default_biomass_id])\n",
    "    print(sol_pfba.fluxes.sum())"
   ]
  },
  {
   "cell_type": "code",
   "execution_count": null,
   "metadata": {},
   "outputs": [
    {
     "data": {
      "text/plain": [
       "'dir(new_obj)\\ndir(new_obj.problem)\\nnew_obj.to_json()\\nori_obj.to_json()'"
      ]
     },
     "metadata": {},
     "output_type": "display_data"
    }
   ],
   "source": [
    "\"\"\"dir(new_obj)\n",
    "dir(new_obj.problem)\n",
    "new_obj.to_json()\n",
    "ori_obj.to_json()\"\"\""
   ]
  }
 ],
 "metadata": {
  "kernelspec": {
   "display_name": "AMN_windows",
   "language": "python",
   "name": "python3"
  },
  "language_info": {
   "name": "python",
   "version": "3.7.15 (default, Nov 24 2022, 18:44:54) [MSC v.1916 64 bit (AMD64)]"
  },
  "orig_nbformat": 4,
  "vscode": {
   "interpreter": {
    "hash": "6fd6cec46bf3458e62783178cf58df02111ebfbf40da301a972ee2d98393f0a7"
   }
  }
 },
 "nbformat": 4,
 "nbformat_minor": 2
}
