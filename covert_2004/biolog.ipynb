{
 "cells": [
  {
   "cell_type": "code",
   "execution_count": 15,
   "metadata": {},
   "outputs": [
    {
     "data": {
      "text/html": [
       "<div>\n",
       "<style scoped>\n",
       "    .dataframe tbody tr th:only-of-type {\n",
       "        vertical-align: middle;\n",
       "    }\n",
       "\n",
       "    .dataframe tbody tr th {\n",
       "        vertical-align: top;\n",
       "    }\n",
       "\n",
       "    .dataframe thead th {\n",
       "        text-align: right;\n",
       "    }\n",
       "</style>\n",
       "<table border=\"1\" class=\"dataframe\">\n",
       "  <thead>\n",
       "    <tr style=\"text-align: right;\">\n",
       "      <th></th>\n",
       "      <th>Experiment Description</th>\n",
       "      <th>Data Definition</th>\n",
       "      <th>Well Substrate</th>\n",
       "      <th>Data Value</th>\n",
       "      <th>Data Submitter</th>\n",
       "    </tr>\n",
       "  </thead>\n",
       "  <tbody>\n",
       "    <tr>\n",
       "      <th>0</th>\n",
       "      <td>b3066 mutant Biolog assay</td>\n",
       "      <td>OD600 growth</td>\n",
       "      <td>(-)Shikimic Acid</td>\n",
       "      <td>1.74</td>\n",
       "      <td>Blattner Laboratory</td>\n",
       "    </tr>\n",
       "    <tr>\n",
       "      <th>1</th>\n",
       "      <td>b3072 mutant Biolog assay</td>\n",
       "      <td>OD600 growth</td>\n",
       "      <td>(-)Shikimic Acid</td>\n",
       "      <td>0.89</td>\n",
       "      <td>Blattner Laboratory</td>\n",
       "    </tr>\n",
       "    <tr>\n",
       "      <th>2</th>\n",
       "      <td>b3076 mutant Biolog assay</td>\n",
       "      <td>OD600 growth</td>\n",
       "      <td>(-)Shikimic Acid</td>\n",
       "      <td>1.07</td>\n",
       "      <td>Blattner Laboratory</td>\n",
       "    </tr>\n",
       "    <tr>\n",
       "      <th>3</th>\n",
       "      <td>b3091 mutant Biolog assay</td>\n",
       "      <td>OD600 growth</td>\n",
       "      <td>(-)Shikimic Acid</td>\n",
       "      <td>0.78</td>\n",
       "      <td>Blattner Laboratory</td>\n",
       "    </tr>\n",
       "    <tr>\n",
       "      <th>4</th>\n",
       "      <td>b3093 mutant Biolog assay</td>\n",
       "      <td>OD600 growth</td>\n",
       "      <td>(-)Shikimic Acid</td>\n",
       "      <td>1.43</td>\n",
       "      <td>Blattner Laboratory</td>\n",
       "    </tr>\n",
       "    <tr>\n",
       "      <th>...</th>\n",
       "      <td>...</td>\n",
       "      <td>...</td>\n",
       "      <td>...</td>\n",
       "      <td>...</td>\n",
       "      <td>...</td>\n",
       "    </tr>\n",
       "    <tr>\n",
       "      <th>100907</th>\n",
       "      <td>b4129 mutant Biolog assay</td>\n",
       "      <td>OD600 growth</td>\n",
       "      <td>Xylitol</td>\n",
       "      <td>0.19</td>\n",
       "      <td>Blattner Laboratory</td>\n",
       "    </tr>\n",
       "    <tr>\n",
       "      <th>100908</th>\n",
       "      <td>b4138 mutant Biolog assay</td>\n",
       "      <td>OD600 growth</td>\n",
       "      <td>Xylitol</td>\n",
       "      <td>0.22</td>\n",
       "      <td>Blattner Laboratory</td>\n",
       "    </tr>\n",
       "    <tr>\n",
       "      <th>100909</th>\n",
       "      <td>b4173 mutant Biolog assay</td>\n",
       "      <td>OD600 growth</td>\n",
       "      <td>Xylitol</td>\n",
       "      <td>0.15</td>\n",
       "      <td>Blattner Laboratory</td>\n",
       "    </tr>\n",
       "    <tr>\n",
       "      <th>100910</th>\n",
       "      <td>b4174 mutant Biolog assay</td>\n",
       "      <td>OD600 growth</td>\n",
       "      <td>Xylitol</td>\n",
       "      <td>0.15</td>\n",
       "      <td>Blattner Laboratory</td>\n",
       "    </tr>\n",
       "    <tr>\n",
       "      <th>100911</th>\n",
       "      <td>b4175 mutant Biolog assay</td>\n",
       "      <td>OD600 growth</td>\n",
       "      <td>Xylitol</td>\n",
       "      <td>0.20</td>\n",
       "      <td>Blattner Laboratory</td>\n",
       "    </tr>\n",
       "  </tbody>\n",
       "</table>\n",
       "<p>100912 rows × 5 columns</p>\n",
       "</div>"
      ],
      "text/plain": [
       "           Experiment Description Data Definition    Well Substrate  \\\n",
       "0       b3066 mutant Biolog assay    OD600 growth  (-)Shikimic Acid   \n",
       "1       b3072 mutant Biolog assay    OD600 growth  (-)Shikimic Acid   \n",
       "2       b3076 mutant Biolog assay    OD600 growth  (-)Shikimic Acid   \n",
       "3       b3091 mutant Biolog assay    OD600 growth  (-)Shikimic Acid   \n",
       "4       b3093 mutant Biolog assay    OD600 growth  (-)Shikimic Acid   \n",
       "...                           ...             ...               ...   \n",
       "100907  b4129 mutant Biolog assay    OD600 growth           Xylitol   \n",
       "100908  b4138 mutant Biolog assay    OD600 growth           Xylitol   \n",
       "100909  b4173 mutant Biolog assay    OD600 growth           Xylitol   \n",
       "100910  b4174 mutant Biolog assay    OD600 growth           Xylitol   \n",
       "100911  b4175 mutant Biolog assay    OD600 growth           Xylitol   \n",
       "\n",
       "        Data Value       Data Submitter  \n",
       "0             1.74  Blattner Laboratory  \n",
       "1             0.89  Blattner Laboratory  \n",
       "2             1.07  Blattner Laboratory  \n",
       "3             0.78  Blattner Laboratory  \n",
       "4             1.43  Blattner Laboratory  \n",
       "...            ...                  ...  \n",
       "100907        0.19  Blattner Laboratory  \n",
       "100908        0.22  Blattner Laboratory  \n",
       "100909        0.15  Blattner Laboratory  \n",
       "100910        0.15  Blattner Laboratory  \n",
       "100911        0.20  Blattner Laboratory  \n",
       "\n",
       "[100912 rows x 5 columns]"
      ]
     },
     "execution_count": 15,
     "metadata": {},
     "output_type": "execute_result"
    }
   ],
   "source": [
    "import pandas as pd\n",
    "import numpy as np\n",
    "import sklearn.preprocessing as skpp\n",
    "# XGBoost\n",
    "# https://xgboost.readthedocs.io/en/stable/python/python_api.html#module-xgboost.sklearn\n",
    "import xgboost as xgb # must be in AMN_windows env\n",
    "from sklearn.model_selection import KFold\n",
    "from sklearn.model_selection import cross_val_predict as cvp\n",
    "from sklearn.metrics import mean_squared_error, r2_score, accuracy_score\n",
    "from sklearn.multioutput import MultiOutputRegressor\n",
    "import seaborn as sns\n",
    "import matplotlib.pyplot as plt\n",
    "import numpy as np\n",
    "from typing import Dict, Tuple, List\n",
    "\n",
    "\n",
    "PATH = \"biolog_data.txt\"\n",
    "all_data = pd.read_csv(PATH, comment=\"<\", encoding='cp1252', delimiter=\"\\t\")\n",
    "# all_data_norm = (all_data - all_data.mean()) - all_data.std()\n",
    "all_data"
   ]
  },
  {
   "cell_type": "code",
   "execution_count": 12,
   "metadata": {},
   "outputs": [
    {
     "name": "stdout",
     "output_type": "stream",
     "text": [
      "212\n",
      "390\n"
     ]
    }
   ],
   "source": [
    "print(len(set(all_data['Experiment Description'])))\n",
    "print(len(set(all_data['Well Substrate'])))"
   ]
  },
  {
   "cell_type": "code",
   "execution_count": 18,
   "metadata": {},
   "outputs": [
    {
     "name": "stdout",
     "output_type": "stream",
     "text": [
      "(100912, 602) (100912, 1)\n"
     ]
    }
   ],
   "source": [
    "target_gene_encoder = skpp.OneHotEncoder()\n",
    "which_CS_encoder = skpp.OneHotEncoder()\n",
    "\n",
    "raw_target_gene = all_data[\"Experiment Description\"].values.reshape(-1, 1)\n",
    "raw_which_medium = all_data[\"Well Substrate\"].values.reshape(-1, 1)\n",
    "\n",
    "target_gene_encoder.fit(raw_target_gene)\n",
    "which_CS_encoder.fit(raw_which_medium)\n",
    "\n",
    "X_left = target_gene_encoder.transform(raw_target_gene).toarray()\n",
    "X_right = which_CS_encoder.transform(raw_which_medium).toarray()\n",
    "\n",
    "X = np.hstack((X_left, X_right))\n",
    "\n",
    "# raw_X = all_data.iloc[:,:3].values\n",
    "# enc.fit(raw_X)\n",
    "# X = enc.transform(raw_X).toarray()\n",
    "\n",
    "Y = all_data[\"Data Value\"].values.reshape(-1, 1)\n",
    "print(X.shape, Y.shape)"
   ]
  },
  {
   "cell_type": "code",
   "execution_count": 19,
   "metadata": {},
   "outputs": [],
   "source": [
    "LOO_split = int(Y.shape[0])\n",
    "\n",
    "xgb_preds = []\n",
    "\n",
    "for i in range(5):\n",
    "\n",
    "    # XGBoost = xgb.XGBRegressor(n_estimators=600, max_depth=2, learning_rate=0.01, objective='reg:squarederror', random_state=i)\n",
    "    multioutputregressor = MultiOutputRegressor(xgb.XGBRegressor(objective='reg:squarederror'))\n",
    "\n",
    "    xgb_pred = cvp(multioutputregressor, X, Y, cv=KFold(n_splits=10, shuffle=True, random_state=i), n_jobs = 5)\n",
    "    \n",
    "    xgb_preds.append(xgb_pred)"
   ]
  },
  {
   "cell_type": "code",
   "execution_count": 22,
   "metadata": {},
   "outputs": [
    {
     "name": "stdout",
     "output_type": "stream",
     "text": [
      "Mean squared error between mean prediction and true fluxes [0.19389984]\n",
      "Q²:  0.525509846522625\n"
     ]
    }
   ],
   "source": [
    "mean_xgb_pred = np.array(xgb_preds).mean(axis=0)\n",
    "std_xgb = np.array(xgb_preds).std(axis=0)\n",
    "\n",
    "print(\"Mean squared error between mean prediction and true fluxes\", np.mean((mean_xgb_pred - Y)**2, axis=0)) # MSE between mean prediction (over 5 times 10-fold test sets) and true\n",
    "\n",
    "print(\"Q²: \", r2_score(Y, mean_xgb_pred))"
   ]
  }
 ],
 "metadata": {
  "kernelspec": {
   "display_name": "AMN_windows",
   "language": "python",
   "name": "python3"
  },
  "language_info": {
   "codemirror_mode": {
    "name": "ipython",
    "version": 3
   },
   "file_extension": ".py",
   "mimetype": "text/x-python",
   "name": "python",
   "nbconvert_exporter": "python",
   "pygments_lexer": "ipython3",
   "version": "3.7.15"
  },
  "orig_nbformat": 4,
  "vscode": {
   "interpreter": {
    "hash": "6fd6cec46bf3458e62783178cf58df02111ebfbf40da301a972ee2d98393f0a7"
   }
  }
 },
 "nbformat": 4,
 "nbformat_minor": 2
}
