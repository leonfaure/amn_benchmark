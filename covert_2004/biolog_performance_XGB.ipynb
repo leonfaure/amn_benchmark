{
 "cells": [
  {
   "cell_type": "code",
   "execution_count": 1,
   "metadata": {},
   "outputs": [
    {
     "data": {
      "text/html": [
       "<div>\n",
       "<style scoped>\n",
       "    .dataframe tbody tr th:only-of-type {\n",
       "        vertical-align: middle;\n",
       "    }\n",
       "\n",
       "    .dataframe tbody tr th {\n",
       "        vertical-align: top;\n",
       "    }\n",
       "\n",
       "    .dataframe thead th {\n",
       "        text-align: right;\n",
       "    }\n",
       "</style>\n",
       "<table border=\"1\" class=\"dataframe\">\n",
       "  <thead>\n",
       "    <tr style=\"text-align: right;\">\n",
       "      <th></th>\n",
       "      <th>Experiment Description</th>\n",
       "      <th>Data Definition</th>\n",
       "      <th>Well Substrate</th>\n",
       "      <th>Data Value</th>\n",
       "      <th>Data Submitter</th>\n",
       "    </tr>\n",
       "  </thead>\n",
       "  <tbody>\n",
       "    <tr>\n",
       "      <th>0</th>\n",
       "      <td>b3091 mutant Biolog assay</td>\n",
       "      <td>OD600 growth</td>\n",
       "      <td>(-)Shikimic Acid</td>\n",
       "      <td>0.7800</td>\n",
       "      <td>Blattner Laboratory</td>\n",
       "    </tr>\n",
       "    <tr>\n",
       "      <th>1</th>\n",
       "      <td>b3093 mutant Biolog assay</td>\n",
       "      <td>OD600 growth</td>\n",
       "      <td>(-)Shikimic Acid</td>\n",
       "      <td>1.4300</td>\n",
       "      <td>Blattner Laboratory</td>\n",
       "    </tr>\n",
       "    <tr>\n",
       "      <th>2</th>\n",
       "      <td>b3132 mutant Biolog assay</td>\n",
       "      <td>OD600 growth</td>\n",
       "      <td>(-)Shikimic Acid</td>\n",
       "      <td>1.0400</td>\n",
       "      <td>Blattner Laboratory</td>\n",
       "    </tr>\n",
       "    <tr>\n",
       "      <th>3</th>\n",
       "      <td>b3137 mutant Biolog assay</td>\n",
       "      <td>OD600 growth</td>\n",
       "      <td>(-)Shikimic Acid</td>\n",
       "      <td>1.0900</td>\n",
       "      <td>Blattner Laboratory</td>\n",
       "    </tr>\n",
       "    <tr>\n",
       "      <th>4</th>\n",
       "      <td>b3161 mutant Biolog assay</td>\n",
       "      <td>OD600 growth</td>\n",
       "      <td>(-)Shikimic Acid</td>\n",
       "      <td>0.9100</td>\n",
       "      <td>Blattner Laboratory</td>\n",
       "    </tr>\n",
       "    <tr>\n",
       "      <th>...</th>\n",
       "      <td>...</td>\n",
       "      <td>...</td>\n",
       "      <td>...</td>\n",
       "      <td>...</td>\n",
       "      <td>...</td>\n",
       "    </tr>\n",
       "    <tr>\n",
       "      <th>17875</th>\n",
       "      <td>b4138 mutant Biolog assay</td>\n",
       "      <td>OD600 growth</td>\n",
       "      <td>L-Serine</td>\n",
       "      <td>1.8300</td>\n",
       "      <td>Blattner Laboratory</td>\n",
       "    </tr>\n",
       "    <tr>\n",
       "      <th>17876</th>\n",
       "      <td>b4138 mutant Biolog assay</td>\n",
       "      <td>OD600 growth</td>\n",
       "      <td>L-Methionine</td>\n",
       "      <td>1.1225</td>\n",
       "      <td>Blattner Laboratory</td>\n",
       "    </tr>\n",
       "    <tr>\n",
       "      <th>17877</th>\n",
       "      <td>b4138 mutant Biolog assay</td>\n",
       "      <td>OD600 growth</td>\n",
       "      <td>Cytosine</td>\n",
       "      <td>1.8400</td>\n",
       "      <td>Blattner Laboratory</td>\n",
       "    </tr>\n",
       "    <tr>\n",
       "      <th>17878</th>\n",
       "      <td>b4138 mutant Biolog assay</td>\n",
       "      <td>OD600 growth</td>\n",
       "      <td>L-Tryptophan</td>\n",
       "      <td>0.9300</td>\n",
       "      <td>Blattner Laboratory</td>\n",
       "    </tr>\n",
       "    <tr>\n",
       "      <th>17879</th>\n",
       "      <td>b4138 mutant Biolog assay</td>\n",
       "      <td>OD600 growth</td>\n",
       "      <td>Adenine</td>\n",
       "      <td>1.0650</td>\n",
       "      <td>Blattner Laboratory</td>\n",
       "    </tr>\n",
       "  </tbody>\n",
       "</table>\n",
       "<p>17880 rows × 5 columns</p>\n",
       "</div>"
      ],
      "text/plain": [
       "          Experiment Description Data Definition    Well Substrate  \\\n",
       "0      b3091 mutant Biolog assay    OD600 growth  (-)Shikimic Acid   \n",
       "1      b3093 mutant Biolog assay    OD600 growth  (-)Shikimic Acid   \n",
       "2      b3132 mutant Biolog assay    OD600 growth  (-)Shikimic Acid   \n",
       "3      b3137 mutant Biolog assay    OD600 growth  (-)Shikimic Acid   \n",
       "4      b3161 mutant Biolog assay    OD600 growth  (-)Shikimic Acid   \n",
       "...                          ...             ...               ...   \n",
       "17875  b4138 mutant Biolog assay    OD600 growth          L-Serine   \n",
       "17876  b4138 mutant Biolog assay    OD600 growth      L-Methionine   \n",
       "17877  b4138 mutant Biolog assay    OD600 growth          Cytosine   \n",
       "17878  b4138 mutant Biolog assay    OD600 growth      L-Tryptophan   \n",
       "17879  b4138 mutant Biolog assay    OD600 growth           Adenine   \n",
       "\n",
       "       Data Value       Data Submitter  \n",
       "0          0.7800  Blattner Laboratory  \n",
       "1          1.4300  Blattner Laboratory  \n",
       "2          1.0400  Blattner Laboratory  \n",
       "3          1.0900  Blattner Laboratory  \n",
       "4          0.9100  Blattner Laboratory  \n",
       "...           ...                  ...  \n",
       "17875      1.8300  Blattner Laboratory  \n",
       "17876      1.1225  Blattner Laboratory  \n",
       "17877      1.8400  Blattner Laboratory  \n",
       "17878      0.9300  Blattner Laboratory  \n",
       "17879      1.0650  Blattner Laboratory  \n",
       "\n",
       "[17880 rows x 5 columns]"
      ]
     },
     "execution_count": 1,
     "metadata": {},
     "output_type": "execute_result"
    }
   ],
   "source": [
    "import pandas as pd\n",
    "import numpy as np\n",
    "import sklearn.preprocessing as skpp\n",
    "# XGBoost\n",
    "# https://xgboost.readthedocs.io/en/stable/python/python_api.html#module-xgboost.sklearn\n",
    "import xgboost as xgb # must be in AMN_windows env\n",
    "from sklearn.model_selection import KFold\n",
    "from sklearn.model_selection import cross_val_predict as cvp\n",
    "from sklearn.metrics import mean_squared_error, r2_score, accuracy_score\n",
    "from sklearn.multioutput import MultiOutputRegressor\n",
    "import seaborn as sns\n",
    "import matplotlib.pyplot as plt\n",
    "from typing import Dict, Tuple, List\n",
    "\n",
    "\n",
    "# PATH = \"biolog_metabolic_genes_single_only.csv\"\n",
    "PATH = \"biolog_metabolic_genes.csv\"\n",
    "# PATH = \"biolog_metabolic_genes_low_std.csv\"\n",
    "\n",
    "all_data = pd.read_csv(PATH, index_col=0)\n",
    "# all_data_norm = (all_data - all_data.mean()) - all_data.std()\n",
    "all_data"
   ]
  },
  {
   "cell_type": "code",
   "execution_count": 2,
   "metadata": {},
   "outputs": [
    {
     "data": {
      "text/plain": [
       "<AxesSubplot:xlabel='Data Value', ylabel='Count'>"
      ]
     },
     "execution_count": 2,
     "metadata": {},
     "output_type": "execute_result"
    },
    {
     "data": {
      "image/png": "[encoded data removed]",
      "text/plain": [
       "<Figure size 432x288 with 1 Axes>"
      ]
     },
     "metadata": {},
     "output_type": "display_data"
    }
   ],
   "source": [
    "plt.close('all')\n",
    "sns.set_theme()\n",
    "sns.histplot(all_data[\"Data Value\"])"
   ]
  },
  {
   "cell_type": "code",
   "execution_count": 3,
   "metadata": {},
   "outputs": [
    {
     "name": "stdout",
     "output_type": "stream",
     "text": [
      "Unique mutants number:  120\n",
      "Unique substrates number:  149\n"
     ]
    }
   ],
   "source": [
    "print(\"Unique mutants number: \", len(set(all_data['Experiment Description'])))\n",
    "print(\"Unique substrates number: \", len(set(all_data['Well Substrate'])))"
   ]
  },
  {
   "cell_type": "code",
   "execution_count": 4,
   "metadata": {},
   "outputs": [
    {
     "name": "stdout",
     "output_type": "stream",
     "text": [
      "(17880, 269) (17880, 1)\n"
     ]
    }
   ],
   "source": [
    "target_gene_encoder = skpp.OneHotEncoder()\n",
    "which_CS_encoder = skpp.OneHotEncoder()\n",
    "\n",
    "raw_target_gene = all_data[\"Experiment Description\"].values.reshape(-1, 1)\n",
    "raw_which_medium = all_data[\"Well Substrate\"].values.reshape(-1, 1)\n",
    "\n",
    "target_gene_encoder.fit(raw_target_gene)\n",
    "which_CS_encoder.fit(raw_which_medium)\n",
    "\n",
    "X_left = target_gene_encoder.transform(raw_target_gene).toarray()\n",
    "X_right = which_CS_encoder.transform(raw_which_medium).toarray()\n",
    "\n",
    "X = np.hstack((X_left, X_right))\n",
    "\n",
    "# raw_X = all_data.iloc[:,:3].values\n",
    "# enc.fit(raw_X)\n",
    "# X = enc.transform(raw_X).toarray()\n",
    "\n",
    "Y = all_data[\"Data Value\"].values.reshape(-1, 1)\n",
    "print(X.shape, Y.shape)"
   ]
  },
  {
   "cell_type": "code",
   "execution_count": 5,
   "metadata": {},
   "outputs": [],
   "source": [
    "LOO_split = int(Y.shape[0])\n",
    "\n",
    "xgb_preds = []\n",
    "\n",
    "for i in range(1):\n",
    "\n",
    "    # XGBoost = xgb.XGBRegressor(n_estimators=600, max_depth=2, learning_rate=0.01, objective='reg:squarederror', random_state=i)\n",
    "\n",
    "    multioutputregressor = MultiOutputRegressor(xgb.XGBRegressor(objective='reg:squarederror'))\n",
    "    \n",
    "    xgb_pred = cvp(multioutputregressor, X, Y, cv=KFold(n_splits=10, shuffle=True, random_state=i), n_jobs=10)\n",
    "    \n",
    "    xgb_preds.append(xgb_pred)"
   ]
  },
  {
   "cell_type": "code",
   "execution_count": 6,
   "metadata": {},
   "outputs": [
    {
     "data": {
      "text/plain": [
       "[array([[0.9823063],\n",
       "        [1.0865618],\n",
       "        [1.0384889],\n",
       "        ...,\n",
       "        [1.2984571],\n",
       "        [1.1753603],\n",
       "        [1.182778 ]], dtype=float32)]"
      ]
     },
     "execution_count": 6,
     "metadata": {},
     "output_type": "execute_result"
    }
   ],
   "source": [
    "xgb_preds"
   ]
  },
  {
   "cell_type": "code",
   "execution_count": 7,
   "metadata": {},
   "outputs": [
    {
     "name": "stdout",
     "output_type": "stream",
     "text": [
      "Mean squared error between mean prediction and true fluxes [0.10958075]\n",
      "Q²:  0.7287191138598418\n"
     ]
    }
   ],
   "source": [
    "mean_xgb_pred = np.array(xgb_preds).mean(axis=0)\n",
    "std_xgb = np.array(xgb_preds).std(axis=0)\n",
    "\n",
    "print(\"Mean squared error between mean prediction and true fluxes\", np.mean((mean_xgb_pred - Y)**2, axis=0))\n",
    "# MSE between mean prediction (over 5 times 10-fold test sets) and true\n",
    "\n",
    "print(\"Q²: \", r2_score(Y, mean_xgb_pred))"
   ]
  },
  {
   "attachments": {},
   "cell_type": "markdown",
   "metadata": {},
   "source": [
    "all data: \n",
    "\n",
    "Mean squared error between mean prediction and true fluxes [0.10932903]\n",
    "Q²:  0.729\n",
    "\n",
    "only single:\n",
    "\n",
    "Mean squared error between mean prediction and true fluxes [0.12198846]\n",
    "Q²:  0.730201885417885\n",
    "\n",
    "low_std:\n",
    "\n",
    "Mean squared error between mean prediction and true fluxes [0.11753889]\n",
    "Q²:  0.739352712972696"
   ]
  },
  {
   "cell_type": "code",
   "execution_count": 8,
   "metadata": {},
   "outputs": [
    {
     "data": {
      "text/plain": [
       "<AxesSubplot:ylabel='Count'>"
      ]
     },
     "execution_count": 8,
     "metadata": {},
     "output_type": "execute_result"
    },
    {
     "data": {
      "image/png": "[encoded data removed]",
      "text/plain": [
       "<Figure size 432x288 with 1 Axes>"
      ]
     },
     "metadata": {},
     "output_type": "display_data"
    }
   ],
   "source": [
    "sns.histplot(mean_xgb_pred)"
   ]
  }
 ],
 "metadata": {
  "kernelspec": {
   "display_name": "Python 3.7.11 ('XGB')",
   "language": "python",
   "name": "python3"
  },
  "language_info": {
   "codemirror_mode": {
    "name": "ipython",
    "version": 3
   },
   "file_extension": ".py",
   "mimetype": "text/x-python",
   "name": "python",
   "nbconvert_exporter": "python",
   "pygments_lexer": "ipython3",
   "version": "3.7.11"
  },
  "orig_nbformat": 4,
  "vscode": {
   "interpreter": {
    "hash": "96bc959ef9700f2c7aecaa9be9791556972ea7855297cc5413e99d0cfcbd0b3c"
   }
  }
 },
 "nbformat": 4,
 "nbformat_minor": 2
}
