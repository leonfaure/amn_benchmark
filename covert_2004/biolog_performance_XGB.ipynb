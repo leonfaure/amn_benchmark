{
 "cells": [
  {
   "cell_type": "code",
   "execution_count": 2,
   "metadata": {},
   "outputs": [
    {
     "data": {
      "text/html": [
       "<div>\n",
       "<style scoped>\n",
       "    .dataframe tbody tr th:only-of-type {\n",
       "        vertical-align: middle;\n",
       "    }\n",
       "\n",
       "    .dataframe tbody tr th {\n",
       "        vertical-align: top;\n",
       "    }\n",
       "\n",
       "    .dataframe thead th {\n",
       "        text-align: right;\n",
       "    }\n",
       "</style>\n",
       "<table border=\"1\" class=\"dataframe\">\n",
       "  <thead>\n",
       "    <tr style=\"text-align: right;\">\n",
       "      <th></th>\n",
       "      <th>Experiment Description</th>\n",
       "      <th>Data Definition</th>\n",
       "      <th>Well Substrate</th>\n",
       "      <th>Data Value</th>\n",
       "      <th>Data Submitter</th>\n",
       "    </tr>\n",
       "  </thead>\n",
       "  <tbody>\n",
       "    <tr>\n",
       "      <th>194</th>\n",
       "      <td>b4100 mutant Biolog assay</td>\n",
       "      <td>OD600 growth</td>\n",
       "      <td>(-)Shikimic Acid</td>\n",
       "      <td>1.19</td>\n",
       "      <td>Blattner Laboratory</td>\n",
       "    </tr>\n",
       "    <tr>\n",
       "      <th>406</th>\n",
       "      <td>b4100 mutant Biolog assay</td>\n",
       "      <td>OD600 growth</td>\n",
       "      <td>(5) 4-Amino-Imidazole-4(5)-Carboxamide</td>\n",
       "      <td>2.07</td>\n",
       "      <td>Blattner Laboratory</td>\n",
       "    </tr>\n",
       "    <tr>\n",
       "      <th>618</th>\n",
       "      <td>b4100 mutant Biolog assay</td>\n",
       "      <td>OD600 growth</td>\n",
       "      <td>1,2-Propanediol</td>\n",
       "      <td>0.20</td>\n",
       "      <td>Blattner Laboratory</td>\n",
       "    </tr>\n",
       "    <tr>\n",
       "      <th>724</th>\n",
       "      <td>b4100 mutant Biolog assay</td>\n",
       "      <td>OD600 growth</td>\n",
       "      <td>1-Thio-b-D-Glucose</td>\n",
       "      <td>0.61</td>\n",
       "      <td>Blattner Laboratory</td>\n",
       "    </tr>\n",
       "    <tr>\n",
       "      <th>1042</th>\n",
       "      <td>b4100 mutant Biolog assay</td>\n",
       "      <td>OD600 growth</td>\n",
       "      <td>2,3-Butanediol</td>\n",
       "      <td>0.15</td>\n",
       "      <td>Blattner Laboratory</td>\n",
       "    </tr>\n",
       "    <tr>\n",
       "      <th>...</th>\n",
       "      <td>...</td>\n",
       "      <td>...</td>\n",
       "      <td>...</td>\n",
       "      <td>...</td>\n",
       "      <td>...</td>\n",
       "    </tr>\n",
       "    <tr>\n",
       "      <th>100040</th>\n",
       "      <td>b3567 mutant Biolog assay</td>\n",
       "      <td>OD600 growth</td>\n",
       "      <td>Uridine-3’-monophosphate</td>\n",
       "      <td>0.46</td>\n",
       "      <td>Blattner Laboratory</td>\n",
       "    </tr>\n",
       "    <tr>\n",
       "      <th>100252</th>\n",
       "      <td>b3567 mutant Biolog assay</td>\n",
       "      <td>OD600 growth</td>\n",
       "      <td>Uridine-5’-monophosphate</td>\n",
       "      <td>0.91</td>\n",
       "      <td>Blattner Laboratory</td>\n",
       "    </tr>\n",
       "    <tr>\n",
       "      <th>100358</th>\n",
       "      <td>b3567 mutant Biolog assay</td>\n",
       "      <td>OD600 growth</td>\n",
       "      <td>Xanthine</td>\n",
       "      <td>0.80</td>\n",
       "      <td>Blattner Laboratory</td>\n",
       "    </tr>\n",
       "    <tr>\n",
       "      <th>100570</th>\n",
       "      <td>b3567 mutant Biolog assay</td>\n",
       "      <td>OD600 growth</td>\n",
       "      <td>Xanthosine</td>\n",
       "      <td>0.22</td>\n",
       "      <td>Blattner Laboratory</td>\n",
       "    </tr>\n",
       "    <tr>\n",
       "      <th>100782</th>\n",
       "      <td>b3567 mutant Biolog assay</td>\n",
       "      <td>OD600 growth</td>\n",
       "      <td>Xylitol</td>\n",
       "      <td>0.16</td>\n",
       "      <td>Blattner Laboratory</td>\n",
       "    </tr>\n",
       "  </tbody>\n",
       "</table>\n",
       "<p>57500 rows × 5 columns</p>\n",
       "</div>"
      ],
      "text/plain": [
       "           Experiment Description Data Definition  \\\n",
       "194     b4100 mutant Biolog assay    OD600 growth   \n",
       "406     b4100 mutant Biolog assay    OD600 growth   \n",
       "618     b4100 mutant Biolog assay    OD600 growth   \n",
       "724     b4100 mutant Biolog assay    OD600 growth   \n",
       "1042    b4100 mutant Biolog assay    OD600 growth   \n",
       "...                           ...             ...   \n",
       "100040  b3567 mutant Biolog assay    OD600 growth   \n",
       "100252  b3567 mutant Biolog assay    OD600 growth   \n",
       "100358  b3567 mutant Biolog assay    OD600 growth   \n",
       "100570  b3567 mutant Biolog assay    OD600 growth   \n",
       "100782  b3567 mutant Biolog assay    OD600 growth   \n",
       "\n",
       "                                Well Substrate  Data Value  \\\n",
       "194                           (-)Shikimic Acid        1.19   \n",
       "406     (5) 4-Amino-Imidazole-4(5)-Carboxamide        2.07   \n",
       "618                            1,2-Propanediol        0.20   \n",
       "724                         1-Thio-b-D-Glucose        0.61   \n",
       "1042                            2,3-Butanediol        0.15   \n",
       "...                                        ...         ...   \n",
       "100040                Uridine-3’-monophosphate        0.46   \n",
       "100252                Uridine-5’-monophosphate        0.91   \n",
       "100358                                Xanthine        0.80   \n",
       "100570                              Xanthosine        0.22   \n",
       "100782                                 Xylitol        0.16   \n",
       "\n",
       "             Data Submitter  \n",
       "194     Blattner Laboratory  \n",
       "406     Blattner Laboratory  \n",
       "618     Blattner Laboratory  \n",
       "724     Blattner Laboratory  \n",
       "1042    Blattner Laboratory  \n",
       "...                     ...  \n",
       "100040  Blattner Laboratory  \n",
       "100252  Blattner Laboratory  \n",
       "100358  Blattner Laboratory  \n",
       "100570  Blattner Laboratory  \n",
       "100782  Blattner Laboratory  \n",
       "\n",
       "[57500 rows x 5 columns]"
      ]
     },
     "execution_count": 2,
     "metadata": {},
     "output_type": "execute_result"
    }
   ],
   "source": [
    "import pandas as pd\n",
    "import numpy as np\n",
    "import sklearn.preprocessing as skpp\n",
    "# XGBoost\n",
    "# https://xgboost.readthedocs.io/en/stable/python/python_api.html#module-xgboost.sklearn\n",
    "import xgboost as xgb # must be in AMN_windows env\n",
    "from sklearn.model_selection import KFold\n",
    "from sklearn.model_selection import cross_val_predict as cvp\n",
    "from sklearn.metrics import mean_squared_error, r2_score, accuracy_score\n",
    "from sklearn.multioutput import MultiOutputRegressor\n",
    "import seaborn as sns\n",
    "import matplotlib.pyplot as plt\n",
    "from typing import Dict, Tuple, List\n",
    "\n",
    "\n",
    "# PATH = \"biolog_data.txt\"\n",
    "# all_data = pd.read_csv(PATH, comment=\"<\", encoding='cp1252', delimiter=\"\\t\")\n",
    "PATH = \"biolog_data_metabolic_genes.csv\"\n",
    "all_data = pd.read_csv(PATH, index_col=0)\n",
    "# all_data_norm = (all_data - all_data.mean()) - all_data.std()\n",
    "all_data"
   ]
  },
  {
   "cell_type": "code",
   "execution_count": 7,
   "metadata": {},
   "outputs": [
    {
     "data": {
      "text/plain": [
       "<AxesSubplot:xlabel='Data Value', ylabel='Count'>"
      ]
     },
     "execution_count": 7,
     "metadata": {},
     "output_type": "execute_result"
    },
    {
     "data": {
      "image/png": "[encoded data removed]",
      "text/plain": [
       "<Figure size 432x288 with 1 Axes>"
      ]
     },
     "metadata": {},
     "output_type": "display_data"
    }
   ],
   "source": [
    "plt.close('all')\n",
    "sns.set_theme()\n",
    "sns.histplot(all_data[\"Data Value\"])"
   ]
  },
  {
   "cell_type": "code",
   "execution_count": 3,
   "metadata": {},
   "outputs": [
    {
     "name": "stdout",
     "output_type": "stream",
     "text": [
      "Unique mutants number:  120\n",
      "Unique substrates number:  390\n"
     ]
    }
   ],
   "source": [
    "print(\"Unique mutants number: \", len(set(all_data['Experiment Description'])))\n",
    "print(\"Unique substrates number: \", len(set(all_data['Well Substrate'])))"
   ]
  },
  {
   "cell_type": "code",
   "execution_count": 4,
   "metadata": {},
   "outputs": [
    {
     "name": "stdout",
     "output_type": "stream",
     "text": [
      "(57500, 510) (57500, 1)\n"
     ]
    }
   ],
   "source": [
    "target_gene_encoder = skpp.OneHotEncoder()\n",
    "which_CS_encoder = skpp.OneHotEncoder()\n",
    "\n",
    "raw_target_gene = all_data[\"Experiment Description\"].values.reshape(-1, 1)\n",
    "raw_which_medium = all_data[\"Well Substrate\"].values.reshape(-1, 1)\n",
    "\n",
    "target_gene_encoder.fit(raw_target_gene)\n",
    "which_CS_encoder.fit(raw_which_medium)\n",
    "\n",
    "X_left = target_gene_encoder.transform(raw_target_gene).toarray()\n",
    "X_right = which_CS_encoder.transform(raw_which_medium).toarray()\n",
    "\n",
    "X = np.hstack((X_left, X_right))\n",
    "\n",
    "# raw_X = all_data.iloc[:,:3].values\n",
    "# enc.fit(raw_X)\n",
    "# X = enc.transform(raw_X).toarray()\n",
    "\n",
    "Y = all_data[\"Data Value\"].values.reshape(-1, 1)\n",
    "print(X.shape, Y.shape)"
   ]
  },
  {
   "cell_type": "code",
   "execution_count": 5,
   "metadata": {},
   "outputs": [],
   "source": [
    "LOO_split = int(Y.shape[0])\n",
    "\n",
    "xgb_preds = []\n",
    "\n",
    "for i in range(5):\n",
    "\n",
    "    # XGBoost = xgb.XGBRegressor(n_estimators=600, max_depth=2, learning_rate=0.01, objective='reg:squarederror', random_state=i)\n",
    "    multioutputregressor = MultiOutputRegressor(xgb.XGBRegressor(objective='reg:squarederror'))\n",
    "\n",
    "    xgb_pred = cvp(multioutputregressor, X, Y, cv=KFold(n_splits=10, shuffle=True, random_state=i), n_jobs = 5)\n",
    "    \n",
    "    xgb_preds.append(xgb_pred)"
   ]
  },
  {
   "cell_type": "code",
   "execution_count": 6,
   "metadata": {},
   "outputs": [
    {
     "name": "stdout",
     "output_type": "stream",
     "text": [
      "Mean squared error between mean prediction and true fluxes [0.19152584]\n",
      "Q²:  0.5257438275118369\n"
     ]
    }
   ],
   "source": [
    "mean_xgb_pred = np.array(xgb_preds).mean(axis=0)\n",
    "std_xgb = np.array(xgb_preds).std(axis=0)\n",
    "\n",
    "print(\"Mean squared error between mean prediction and true fluxes\", np.mean((mean_xgb_pred - Y)**2, axis=0))\n",
    "# MSE between mean prediction (over 5 times 10-fold test sets) and true\n",
    "\n",
    "print(\"Q²: \", r2_score(Y, mean_xgb_pred))"
   ]
  }
 ],
 "metadata": {
  "kernelspec": {
   "display_name": "Python 3.7.11 ('XGB')",
   "language": "python",
   "name": "python3"
  },
  "language_info": {
   "codemirror_mode": {
    "name": "ipython",
    "version": 3
   },
   "file_extension": ".py",
   "mimetype": "text/x-python",
   "name": "python",
   "nbconvert_exporter": "python",
   "pygments_lexer": "ipython3",
   "version": "3.7.11"
  },
  "orig_nbformat": 4,
  "vscode": {
   "interpreter": {
    "hash": "96bc959ef9700f2c7aecaa9be9791556972ea7855297cc5413e99d0cfcbd0b3c"
   }
  }
 },
 "nbformat": 4,
 "nbformat_minor": 2
}
