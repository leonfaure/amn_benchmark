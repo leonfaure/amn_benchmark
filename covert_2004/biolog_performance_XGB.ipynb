{
 "cells": [
  {
   "cell_type": "code",
   "execution_count": 18,
   "metadata": {},
   "outputs": [
    {
     "data": {
      "text/html": [
       "<div>\n",
       "<style scoped>\n",
       "    .dataframe tbody tr th:only-of-type {\n",
       "        vertical-align: middle;\n",
       "    }\n",
       "\n",
       "    .dataframe tbody tr th {\n",
       "        vertical-align: top;\n",
       "    }\n",
       "\n",
       "    .dataframe thead th {\n",
       "        text-align: right;\n",
       "    }\n",
       "</style>\n",
       "<table border=\"1\" class=\"dataframe\">\n",
       "  <thead>\n",
       "    <tr style=\"text-align: right;\">\n",
       "      <th></th>\n",
       "      <th>Experiment Description</th>\n",
       "      <th>Data Definition</th>\n",
       "      <th>Well Substrate</th>\n",
       "      <th>Data Value</th>\n",
       "      <th>Data Submitter</th>\n",
       "    </tr>\n",
       "  </thead>\n",
       "  <tbody>\n",
       "    <tr>\n",
       "      <th>0</th>\n",
       "      <td>b3091 mutant Biolog assay</td>\n",
       "      <td>OD600 growth</td>\n",
       "      <td>(-)Shikimic Acid</td>\n",
       "      <td>0.780000</td>\n",
       "      <td>Blattner Laboratory</td>\n",
       "    </tr>\n",
       "    <tr>\n",
       "      <th>1</th>\n",
       "      <td>b3093 mutant Biolog assay</td>\n",
       "      <td>OD600 growth</td>\n",
       "      <td>(-)Shikimic Acid</td>\n",
       "      <td>1.430000</td>\n",
       "      <td>Blattner Laboratory</td>\n",
       "    </tr>\n",
       "    <tr>\n",
       "      <th>2</th>\n",
       "      <td>b3132 mutant Biolog assay</td>\n",
       "      <td>OD600 growth</td>\n",
       "      <td>(-)Shikimic Acid</td>\n",
       "      <td>1.040000</td>\n",
       "      <td>Blattner Laboratory</td>\n",
       "    </tr>\n",
       "    <tr>\n",
       "      <th>3</th>\n",
       "      <td>b3137 mutant Biolog assay</td>\n",
       "      <td>OD600 growth</td>\n",
       "      <td>(-)Shikimic Acid</td>\n",
       "      <td>1.090000</td>\n",
       "      <td>Blattner Laboratory</td>\n",
       "    </tr>\n",
       "    <tr>\n",
       "      <th>4</th>\n",
       "      <td>b3161 mutant Biolog assay</td>\n",
       "      <td>OD600 growth</td>\n",
       "      <td>(-)Shikimic Acid</td>\n",
       "      <td>0.910000</td>\n",
       "      <td>Blattner Laboratory</td>\n",
       "    </tr>\n",
       "    <tr>\n",
       "      <th>...</th>\n",
       "      <td>...</td>\n",
       "      <td>...</td>\n",
       "      <td>...</td>\n",
       "      <td>...</td>\n",
       "      <td>...</td>\n",
       "    </tr>\n",
       "    <tr>\n",
       "      <th>15348</th>\n",
       "      <td>b3543 mutant Biolog assay</td>\n",
       "      <td>OD600 growth</td>\n",
       "      <td>D-Glucose-6-Phosphate</td>\n",
       "      <td>1.270000</td>\n",
       "      <td>Blattner Laboratory</td>\n",
       "    </tr>\n",
       "    <tr>\n",
       "      <th>15349</th>\n",
       "      <td>b3543 mutant Biolog assay</td>\n",
       "      <td>OD600 growth</td>\n",
       "      <td>L-Asparagine</td>\n",
       "      <td>1.410000</td>\n",
       "      <td>Blattner Laboratory</td>\n",
       "    </tr>\n",
       "    <tr>\n",
       "      <th>15350</th>\n",
       "      <td>b3543 mutant Biolog assay</td>\n",
       "      <td>OD600 growth</td>\n",
       "      <td>D-Serine</td>\n",
       "      <td>1.215000</td>\n",
       "      <td>Blattner Laboratory</td>\n",
       "    </tr>\n",
       "    <tr>\n",
       "      <th>15351</th>\n",
       "      <td>b3543 mutant Biolog assay</td>\n",
       "      <td>OD600 growth</td>\n",
       "      <td>D-Alanine</td>\n",
       "      <td>1.836667</td>\n",
       "      <td>Blattner Laboratory</td>\n",
       "    </tr>\n",
       "    <tr>\n",
       "      <th>15352</th>\n",
       "      <td>b3543 mutant Biolog assay</td>\n",
       "      <td>OD600 growth</td>\n",
       "      <td>Adenosine</td>\n",
       "      <td>1.263333</td>\n",
       "      <td>Blattner Laboratory</td>\n",
       "    </tr>\n",
       "  </tbody>\n",
       "</table>\n",
       "<p>15353 rows × 5 columns</p>\n",
       "</div>"
      ],
      "text/plain": [
       "          Experiment Description Data Definition         Well Substrate  \\\n",
       "0      b3091 mutant Biolog assay    OD600 growth       (-)Shikimic Acid   \n",
       "1      b3093 mutant Biolog assay    OD600 growth       (-)Shikimic Acid   \n",
       "2      b3132 mutant Biolog assay    OD600 growth       (-)Shikimic Acid   \n",
       "3      b3137 mutant Biolog assay    OD600 growth       (-)Shikimic Acid   \n",
       "4      b3161 mutant Biolog assay    OD600 growth       (-)Shikimic Acid   \n",
       "...                          ...             ...                    ...   \n",
       "15348  b3543 mutant Biolog assay    OD600 growth  D-Glucose-6-Phosphate   \n",
       "15349  b3543 mutant Biolog assay    OD600 growth           L-Asparagine   \n",
       "15350  b3543 mutant Biolog assay    OD600 growth               D-Serine   \n",
       "15351  b3543 mutant Biolog assay    OD600 growth              D-Alanine   \n",
       "15352  b3543 mutant Biolog assay    OD600 growth              Adenosine   \n",
       "\n",
       "       Data Value       Data Submitter  \n",
       "0        0.780000  Blattner Laboratory  \n",
       "1        1.430000  Blattner Laboratory  \n",
       "2        1.040000  Blattner Laboratory  \n",
       "3        1.090000  Blattner Laboratory  \n",
       "4        0.910000  Blattner Laboratory  \n",
       "...           ...                  ...  \n",
       "15348    1.270000  Blattner Laboratory  \n",
       "15349    1.410000  Blattner Laboratory  \n",
       "15350    1.215000  Blattner Laboratory  \n",
       "15351    1.836667  Blattner Laboratory  \n",
       "15352    1.263333  Blattner Laboratory  \n",
       "\n",
       "[15353 rows x 5 columns]"
      ]
     },
     "execution_count": 18,
     "metadata": {},
     "output_type": "execute_result"
    }
   ],
   "source": [
    "import pandas as pd\n",
    "import numpy as np\n",
    "import sklearn.preprocessing as skpp\n",
    "# XGBoost\n",
    "# https://xgboost.readthedocs.io/en/stable/python/python_api.html#module-xgboost.sklearn\n",
    "import xgboost as xgb # must be in AMN_windows env\n",
    "from sklearn.model_selection import KFold\n",
    "from sklearn.model_selection import cross_val_predict as cvp\n",
    "from sklearn.metrics import mean_squared_error, r2_score, accuracy_score\n",
    "from sklearn.multioutput import MultiOutputRegressor\n",
    "import seaborn as sns\n",
    "import matplotlib.pyplot as plt\n",
    "from typing import Dict, Tuple, List\n",
    "\n",
    "\n",
    "# PATH = \"biolog_metabolic_genes_single_only.csv\"\n",
    "# PATH = \"biolog_metabolic_genes.csv\"\n",
    "PATH = \"biolog_metabolic_genes_low_std.csv\"\n",
    "\n",
    "all_data = pd.read_csv(PATH, index_col=0)\n",
    "# all_data_norm = (all_data - all_data.mean()) - all_data.std()\n",
    "all_data"
   ]
  },
  {
   "cell_type": "code",
   "execution_count": 19,
   "metadata": {},
   "outputs": [
    {
     "data": {
      "text/plain": [
       "<AxesSubplot:xlabel='Data Value', ylabel='Count'>"
      ]
     },
     "execution_count": 19,
     "metadata": {},
     "output_type": "execute_result"
    },
    {
     "data": {
      "image/png": "[encoded data removed]",
      "text/plain": [
       "<Figure size 640x480 with 1 Axes>"
      ]
     },
     "metadata": {},
     "output_type": "display_data"
    }
   ],
   "source": [
    "plt.close('all')\n",
    "sns.set_theme()\n",
    "sns.histplot(all_data[\"Data Value\"])"
   ]
  },
  {
   "cell_type": "code",
   "execution_count": 20,
   "metadata": {},
   "outputs": [
    {
     "name": "stdout",
     "output_type": "stream",
     "text": [
      "Unique mutants number:  120\n",
      "Unique substrates number:  149\n"
     ]
    }
   ],
   "source": [
    "print(\"Unique mutants number: \", len(set(all_data['Experiment Description'])))\n",
    "print(\"Unique substrates number: \", len(set(all_data['Well Substrate'])))"
   ]
  },
  {
   "cell_type": "code",
   "execution_count": 21,
   "metadata": {},
   "outputs": [
    {
     "name": "stdout",
     "output_type": "stream",
     "text": [
      "(15353, 269) (15353, 1)\n"
     ]
    }
   ],
   "source": [
    "target_gene_encoder = skpp.OneHotEncoder()\n",
    "which_CS_encoder = skpp.OneHotEncoder()\n",
    "\n",
    "raw_target_gene = all_data[\"Experiment Description\"].values.reshape(-1, 1)\n",
    "raw_which_medium = all_data[\"Well Substrate\"].values.reshape(-1, 1)\n",
    "\n",
    "target_gene_encoder.fit(raw_target_gene)\n",
    "which_CS_encoder.fit(raw_which_medium)\n",
    "\n",
    "X_left = target_gene_encoder.transform(raw_target_gene).toarray()\n",
    "X_right = which_CS_encoder.transform(raw_which_medium).toarray()\n",
    "\n",
    "X = np.hstack((X_left, X_right))\n",
    "\n",
    "# raw_X = all_data.iloc[:,:3].values\n",
    "# enc.fit(raw_X)\n",
    "# X = enc.transform(raw_X).toarray()\n",
    "\n",
    "Y = all_data[\"Data Value\"].values.reshape(-1, 1)\n",
    "print(X.shape, Y.shape)"
   ]
  },
  {
   "cell_type": "code",
   "execution_count": 22,
   "metadata": {},
   "outputs": [],
   "source": [
    "LOO_split = int(Y.shape[0])\n",
    "\n",
    "xgb_preds = []\n",
    "\n",
    "for i in range(1):\n",
    "\n",
    "    # XGBoost = xgb.XGBRegressor(n_estimators=600, max_depth=2, learning_rate=0.01, objective='reg:squarederror', random_state=i)\n",
    "\n",
    "    multioutputregressor = MultiOutputRegressor(xgb.XGBRegressor(objective='reg:squarederror'))\n",
    "    \n",
    "    xgb_pred = cvp(multioutputregressor, X, Y, cv=KFold(n_splits=10, shuffle=True, random_state=i), n_jobs=10)\n",
    "    \n",
    "    xgb_preds.append(xgb_pred)"
   ]
  },
  {
   "cell_type": "code",
   "execution_count": 23,
   "metadata": {},
   "outputs": [
    {
     "data": {
      "text/plain": [
       "[array([[1.0535468],\n",
       "        [1.1161952],\n",
       "        [1.0646251],\n",
       "        ...,\n",
       "        [1.2608982],\n",
       "        [1.4591802],\n",
       "        [1.1094887]], dtype=float32)]"
      ]
     },
     "execution_count": 23,
     "metadata": {},
     "output_type": "execute_result"
    }
   ],
   "source": [
    "xgb_preds"
   ]
  },
  {
   "cell_type": "code",
   "execution_count": 24,
   "metadata": {},
   "outputs": [
    {
     "name": "stdout",
     "output_type": "stream",
     "text": [
      "Mean squared error between mean prediction and true fluxes [0.11753889]\n",
      "Q²:  0.739352712972696\n"
     ]
    }
   ],
   "source": [
    "mean_xgb_pred = np.array(xgb_preds).mean(axis=0)\n",
    "std_xgb = np.array(xgb_preds).std(axis=0)\n",
    "\n",
    "print(\"Mean squared error between mean prediction and true fluxes\", np.mean((mean_xgb_pred - Y)**2, axis=0))\n",
    "# MSE between mean prediction (over 5 times 10-fold test sets) and true\n",
    "\n",
    "print(\"Q²: \", r2_score(Y, mean_xgb_pred))"
   ]
  },
  {
   "attachments": {},
   "cell_type": "markdown",
   "metadata": {},
   "source": [
    "all data: \n",
    "\n",
    "Mean squared error between mean prediction and true fluxes [0.10932903]\n",
    "Q²:  0.729\n",
    "\n",
    "only single:\n",
    "\n",
    "Mean squared error between mean prediction and true fluxes [0.12198846]\n",
    "Q²:  0.730201885417885\n",
    "\n",
    "low_std:\n",
    "\n",
    "Mean squared error between mean prediction and true fluxes [0.11753889]\n",
    "Q²:  0.739352712972696"
   ]
  },
  {
   "cell_type": "code",
   "execution_count": 25,
   "metadata": {},
   "outputs": [
    {
     "data": {
      "text/plain": [
       "<AxesSubplot:ylabel='Count'>"
      ]
     },
     "execution_count": 25,
     "metadata": {},
     "output_type": "execute_result"
    },
    {
     "data": {
      "image/png": "[encoded data removed]",
      "text/plain": [
       "<Figure size 640x480 with 1 Axes>"
      ]
     },
     "metadata": {},
     "output_type": "display_data"
    }
   ],
   "source": [
    "sns.histplot(mean_xgb_pred)"
   ]
  }
 ],
 "metadata": {
  "kernelspec": {
   "display_name": "AMN_windows",
   "language": "python",
   "name": "python3"
  },
  "language_info": {
   "codemirror_mode": {
    "name": "ipython",
    "version": 3
   },
   "file_extension": ".py",
   "mimetype": "text/x-python",
   "name": "python",
   "nbconvert_exporter": "python",
   "pygments_lexer": "ipython3",
   "version": "3.7.15"
  },
  "orig_nbformat": 4,
  "vscode": {
   "interpreter": {
    "hash": "6fd6cec46bf3458e62783178cf58df02111ebfbf40da301a972ee2d98393f0a7"
   }
  }
 },
 "nbformat": 4,
 "nbformat_minor": 2
}
