{
 "cells": [
  {
   "cell_type": "markdown",
   "metadata": {
    "id": "725c9c6d",
    "jp-MarkdownHeadingCollapsed": true,
    "tags": []
   },
   "source": [
    "# Install conda on your Colab environment"
   ]
  },
  {
   "cell_type": "markdown",
   "metadata": {},
   "source": [
    "Ignore this first cell if you are running the notebook in a local environment.\n",
    "\n",
    "One can still run it locally but it will have no effect."
   ]
  },
  {
   "cell_type": "code",
   "execution_count": 1,
   "metadata": {
    "colab": {
     "base_uri": "https://localhost:8080/"
    },
    "executionInfo": {
     "elapsed": 40951,
     "status": "ok",
     "timestamp": 1664526150927,
     "user": {
      "displayName": "Leon Faure",
      "userId": "06483081905364613855"
     },
     "user_tz": -120
    },
    "id": "c4f08880",
    "outputId": "eaae29a9-4739-4b0f-a2a7-56bfa89f0bf0",
    "scrolled": true
   },
   "outputs": [],
   "source": [
    "# Run this cell first - it will install a conda distribution (mamba)\n",
    "# on your Drive then restart the kernel automatically \n",
    "# (don't worry about the crashing/restarting kernel messages)\n",
    "# It HAS to be runned FIRST everytime you use the notebook in colab\n",
    "\n",
    "import os\n",
    "import sys\n",
    "RunningInCOLAB  = 'google.colab' in str(get_ipython())\n",
    "\n",
    "if RunningInCOLAB:\n",
    "    !pip install -q condacolab\n",
    "    import condacolab\n",
    "    condacolab.install()"
   ]
  },
  {
   "cell_type": "markdown",
   "metadata": {
    "jp-MarkdownHeadingCollapsed": true,
    "tags": []
   },
   "source": [
    "# Set up your Colab or local environment\n",
    "# Then import libraries"
   ]
  },
  {
   "cell_type": "markdown",
   "metadata": {},
   "source": [
    "Run this cell in both cases of use (local or Colab)"
   ]
  },
  {
   "cell_type": "code",
   "execution_count": 1,
   "metadata": {
    "colab": {
     "base_uri": "https://localhost:8080/"
    },
    "executionInfo": {
     "elapsed": 117260,
     "status": "ok",
     "timestamp": 1664526767265,
     "user": {
      "displayName": "Leon Faure",
      "userId": "06483081905364613855"
     },
     "user_tz": -120
    },
    "id": "BYwheAEcr-ME",
    "outputId": "8ba41a54-6751-4c00-ed1a-938db78cafb6"
   },
   "outputs": [
    {
     "name": "stdout",
     "output_type": "stream",
     "text": [
      "['README.md', 'Duplicate_Model.ipynb', 'Build_Model_Dense.ipynb', 'Build_Dataset.py', 'Dataset_experimental', '.ipynb_checkpoints', '.git', 'Build_Model_RC.ipynb', 'environment_amn_light.yml', 'Build_Experimental.ipynb', 'Reservoir', 'Build_Model_MM.ipynb', 'Dataset_model', 'Figures.ipynb', 'Result', 'Figures', '.gitignore', 'Duplicate_Model.py', 'LICENSE', 'Build_Model_ANN.ipynb', 'Build_Dataset.ipynb', 'Dataset_input', 'Functions', '__pycache__', 'Build_Experimental.py', 'old', 'environment_amn.yml', 'Build_Model_AMN.ipynb', 'Build_Model.py', 'Build_Model.ipynb', '.DS_Store']\n"
     ]
    }
   ],
   "source": [
    "import os\n",
    "import sys\n",
    "RunningInCOLAB  = 'google.colab' in str(get_ipython())\n",
    "\n",
    "if RunningInCOLAB:\n",
    "    \n",
    "    # Check everything is fine with conda in Colab\n",
    "    import condacolab\n",
    "    condacolab.check()\n",
    "    \n",
    "    # Mount your drive environment in the colab runtime\n",
    "    from google.colab import drive\n",
    "    drive.mount('/content/drive',force_remount=True)\n",
    "    \n",
    "    # Change this variable to your path on Google Drive to which the repo has been cloned\n",
    "    # If you followed the colab notebook 'repo_cloning.ipynb', nothing to change here\n",
    "    repo_path_in_drive = '/content/drive/My Drive/Github/amn_release/'\n",
    "    # Change directory to your repo cloned in your drive\n",
    "    DIRECTORY = repo_path_in_drive\n",
    "    os.chdir(repo_path_in_drive)\n",
    "    # Copy the environment given in the environment_amn_light.yml\n",
    "    !mamba env update -n base -f environment_amn_light.yml\n",
    "    \n",
    "    # This is one of the few Colab-compatible font\n",
    "    font = 'Liberation Sans'\n",
    "    \n",
    "else:\n",
    "    \n",
    "    # In this case the local root of the repo is our working directory\n",
    "    DIRECTORY = './'\n",
    "    font = 'arial'\n",
    "\n",
    "# printing the working directory files. One can check you see the same folders and files as in the git webpage.\n",
    "print(os.listdir(DIRECTORY))\n",
    "\n",
    "from Library.Duplicate_Model import *"
   ]
  },
  {
   "cell_type": "markdown",
   "metadata": {
    "id": "qlCrSlMnk-Ed",
    "tags": []
   },
   "source": [
    "# Duplicate two-sided reactions in a SBML model"
   ]
  },
  {
   "cell_type": "markdown",
   "metadata": {
    "id": "48AwK-BFjnH1"
   },
   "source": [
    "A requirement for neural computations with metabolic networks using AMNs is the positivity of all fluxes.\n",
    "\n",
    "This notebook shows the steps to transforms a SBML model into an *AMN-compatible* SBML model where all exchange reactions are possible in both ways, and reversible internal reactions are duplicated for each way. Added to that, the reactions encoded as backward are recoded in the other way, the forward way. In this transformed model, we also add a suffix \"i\", for inflowing, and \"o\" for outflowing reactions. It is further described what we consider \"inflow\" and \"outflow\"."
   ]
  },
  {
   "cell_type": "markdown",
   "metadata": {
    "id": "KtJL7mGnlKzO",
    "jp-MarkdownHeadingCollapsed": true,
    "tags": []
   },
   "source": [
    "## Download and inspect the model"
   ]
  },
  {
   "cell_type": "markdown",
   "metadata": {},
   "source": [
    "Run this cell for E. coli core model"
   ]
  },
  {
   "cell_type": "code",
   "execution_count": 18,
   "metadata": {
    "colab": {
     "base_uri": "https://localhost:8080/"
    },
    "executionInfo": {
     "elapsed": 1850,
     "status": "ok",
     "timestamp": 1637845042533,
     "user": {
      "displayName": "Leon Faure",
      "photoUrl": "https://lh3.googleusercontent.com/a-/AOh14GgBYvOG4pPuY3bETF84PYqPSfos-yZCbq8n2clDIw=s64",
      "userId": "06483081905364613855"
     },
     "user_tz": -60
    },
    "id": "BhmGvYcAjtQs",
    "outputId": "f18b6776-a710-4fc2-9120-a98bbec399da"
   },
   "outputs": [],
   "source": [
    "model_path = \"Dataset_input/e_coli_core.xml\"\n",
    "url = \"http://bigg.ucsd.edu/static/models/e_coli_core.xml\"\n",
    "response = requests.get(url)\n",
    "open(model_path, \"wb\").write(response.content)\n",
    "model = cobra.io.read_sbml_model(model_path)"
   ]
  },
  {
   "cell_type": "markdown",
   "metadata": {},
   "source": [
    "Run this cell for iML1515 model"
   ]
  },
  {
   "cell_type": "code",
   "execution_count": 19,
   "metadata": {},
   "outputs": [],
   "source": [
    "model_path = \"Dataset_input/iML1515.xml\"\n",
    "url = \"http://bigg.ucsd.edu/static/models/iML1515.xml\"\n",
    "response = requests.get(url)\n",
    "open(model_path, \"wb\").write(response.content)\n",
    "model = cobra.io.read_sbml_model(model_path)"
   ]
  },
  {
   "cell_type": "markdown",
   "metadata": {
    "id": "q24WFvz_lTo1"
   },
   "source": [
    "First, we can get some basic informations on the model.\n",
    "\n",
    "model.boundary gets all reactions that introduce or remove matter in the system (inflows, outflows)\n",
    "\n",
    "model.medium lists all reactions of model.boundary that are reversible (irreversible are outflows/sinks)\n",
    "\n",
    "model.objective is the expression to be optimized by default"
   ]
  },
  {
   "cell_type": "code",
   "execution_count": 20,
   "metadata": {},
   "outputs": [
    {
     "name": "stdout",
     "output_type": "stream",
     "text": [
      "[<Reaction EX_pi_e at 0x7fd0d3c3ae10>, <Reaction EX_co2_e at 0x7fd0d3c3ed10>, <Reaction EX_met__L_e at 0x7fd0d3c3e390>, <Reaction EX_metsox_S__L_e at 0x7fd0d3bc57d0>, <Reaction EX_acgam_e at 0x7fd0d3bd1e10>, <Reaction EX_cellb_e at 0x7fd0d3bda250>, <Reaction EX_crn_e at 0x7fd0d3bda2d0>, <Reaction EX_hxan_e at 0x7fd0d3bdb710>, <Reaction EX_ile__L_e at 0x7fd0d3bdaa10>, <Reaction EX_chol_e at 0x7fd0d3bdc4d0>, <Reaction EX_fe3_e at 0x7fd0d3bdc7d0>, <Reaction EX_lac__L_e at 0x7fd0d3bdc690>, <Reaction EX_leu__L_e at 0x7fd0d3bddc90>, <Reaction EX_glcn_e at 0x7fd0d3bde250>, <Reaction EX_no3_e at 0x7fd0d3bde850>, <Reaction EX_h_e at 0x7fd0d3be0550>, <Reaction EX_orn_e at 0x7fd0d3be0a10>, <Reaction EX_gln__L_e at 0x7fd0d3be2850>, <Reaction EX_pro__L_e at 0x7fd0d3be3a90>, <Reaction EX_glyc_e at 0x7fd0d3be4d90>, <Reaction EX_man_e at 0x7fd0d3be55d0>, <Reaction EX_ade_e at 0x7fd0d3be6590>, <Reaction EX_mn2_e at 0x7fd0d3be1e10>, <Reaction EX_4abut_e at 0x7fd0d3be8990>, <Reaction EX_ac_e at 0x7fd0d3be8050>, <Reaction EX_akg_e at 0x7fd0d3be9a90>, <Reaction EX_ala__L_e at 0x7fd0d3bea4d0>, <Reaction EX_arg__L_e at 0x7fd0d3bea610>, <Reaction EX_asp__L_e at 0x7fd0d3beab90>, <Reaction EX_pyr_e at 0x7fd0d3beb390>, <Reaction EX_succ_e at 0x7fd0d3beb490>, <Reaction EX_thymd_e at 0x7fd0d3beb9d0>, <Reaction EX_rib__D_e at 0x7fd0d3bebd50>, <Reaction EX_tyr__L_e at 0x7fd0d3bec150>, <Reaction EX_cytd_e at 0x7fd0d3bec510>, <Reaction EX_dcyt_e at 0x7fd0d3bec090>, <Reaction EX_fum_e at 0x7fd0d3bed4d0>, <Reaction EX_sbt__D_e at 0x7fd0d3bed610>, <Reaction EX_glu__L_e at 0x7fd0d3bedad0>, <Reaction EX_gua_e at 0x7fd0d3bdee10>, <Reaction EX_btn_e at 0x7fd0d3bfe390>, <Reaction EX_ptrc_e at 0x7fd0d3b7f710>, <Reaction EX_spmd_e at 0x7fd0d3b81e90>, <Reaction EX_thym_e at 0x7fd0d3b7fd50>, <Reaction EX_xtsn_e at 0x7fd0d3b82750>, <Reaction EX_fe2_e at 0x7fd0d3b91a10>, <Reaction EX_glc__D_e at 0x7fd0d3b9e990>, <Reaction EX_alltn_e at 0x7fd0d3b9ff50>, <Reaction EX_ura_e at 0x7fd0d3ba0e50>, <Reaction EX_val__L_e at 0x7fd0d3ba2210>, <Reaction EX_xan_e at 0x7fd0d3ba5910>, <Reaction EX_dgsn_e at 0x7fd0d3bad7d0>, <Reaction EX_arab__L_e at 0x7fd0d3bad190>, <Reaction EX_fru_e at 0x7fd0d3ba8850>, <Reaction EX_gal_e at 0x7fd0d3baf050>, <Reaction EX_xyl__D_e at 0x7fd0d3bb0490>, <Reaction EX_duri_e at 0x7fd0d3bb3b10>, <Reaction EX_for_e at 0x7fd0d3bb3690>, <Reaction EX_gly_e at 0x7fd0d3bb4090>, <Reaction EX_h2_e at 0x7fd0d3bb4890>, <Reaction EX_lys__L_e at 0x7fd0d3bb3350>, <Reaction EX_ser__L_e at 0x7fd0d3bbadd0>, <Reaction EX_thm_e at 0x7fd0d3bba990>, <Reaction EX_trp__L_e at 0x7fd0d3bbc090>, <Reaction EX_din_e at 0x7fd0d3bb8910>, <Reaction EX_fmn_e at 0x7fd0d3b42050>, <Reaction EX_gthox_e at 0x7fd0d3b42a50>, <Reaction EX_tmao_e at 0x7fd0d3b5dfd0>, <Reaction EX_acald_e at 0x7fd0d3b5d2d0>, <Reaction EX_melib_e at 0x7fd0d3b61f50>, <Reaction EX_sucr_e at 0x7fd0d3b67fd0>, <Reaction EX_tre_e at 0x7fd0d3b6b8d0>, <Reaction EX_zn2_e at 0x7fd0d3b6ae10>, <Reaction EX_hdcea_e at 0x7fd0d3b7ded0>, <Reaction EX_lac__D_e at 0x7fd0d3b07a90>, <Reaction EX_ttdcea_e at 0x7fd0d3b15650>, <Reaction EX_h2s_e at 0x7fd0d3b1b410>, <Reaction EX_gthrd_e at 0x7fd0d3b1cd50>, <Reaction EX_26dap__M_e at 0x7fd0d3b338d0>, <Reaction EX_acnam_e at 0x7fd0d3b35890>, <Reaction EX_amp_e at 0x7fd0d3b3c610>, <Reaction EX_dha_e at 0x7fd0d3ac85d0>, <Reaction EX_fuc__L_e at 0x7fd0d3acdfd0>, <Reaction EX_met__D_e at 0x7fd0d3acda90>, <Reaction EX_tartr__L_e at 0x7fd0d3acdb90>, <Reaction EX_taur_e at 0x7fd0d3ad0250>, <Reaction EX_maltpt_e at 0x7fd0d3ad0c90>, <Reaction EX_glyald_e at 0x7fd0d3ad0b90>, <Reaction EX_glcur_e at 0x7fd0d3ad1150>, <Reaction EX_nmn_e at 0x7fd0d3ad4e90>, <Reaction EX_urea_e at 0x7fd0d3ad4a90>, <Reaction EX_f6p_e at 0x7fd0d3adbad0>, <Reaction EX_rmn_e at 0x7fd0d3ae3d50>, <Reaction EX_ttdca_e at 0x7fd0d3ae7ed0>, <Reaction EX_glyclt_e at 0x7fd0d3afe6d0>, <Reaction EX_g6p_e at 0x7fd0d3a83fd0>, <Reaction EX_2ddglcn_e at 0x7fd0d3c233d0>, <Reaction EX_mmet_e at 0x7fd0d3c38dd0>, <Reaction EX_galct__D_e at 0x7fd0d3bfe8d0>, <Reaction EX_idon__L_e at 0x7fd0d3ba0c10>, <Reaction EX_indole_e at 0x7fd0d2ccc190>, <Reaction EX_3hcinnm_e at 0x7fd0d1963450>, <Reaction EX_acac_e at 0x7fd0d1989e50>, <Reaction EX_acmana_e at 0x7fd0d1973190>, <Reaction EX_galur_e at 0x7fd0d1aa6c90>, <Reaction DM_amob_c at 0x7fd0d21d87d0>, <Reaction EX_adn_e at 0x7fd0d249c9d0>, <Reaction EX_ins_e at 0x7fd0d2160d50>, <Reaction EX_mg2_e at 0x7fd0d17937d0>, <Reaction EX_glyc3p_e at 0x7fd0d2110a90>, <Reaction EX_but_e at 0x7fd0d284bed0>, <Reaction EX_lcts_e at 0x7fd0d203e1d0>, <Reaction EX_ocdca_e at 0x7fd0d1f23490>, <Reaction EX_cbl1_e at 0x7fd0d1f6fad0>, <Reaction EX_nac_e at 0x7fd0d20b3f90>, <Reaction EX_dad_2_e at 0x7fd0d2056650>, <Reaction EX_ser__D_e at 0x7fd0d1dca4d0>, <Reaction EX_gam6p_e at 0x7fd0d2208310>, <Reaction EX_15dap_e at 0x7fd0d202bc10>, <Reaction EX_ocdcea_e at 0x7fd0d2023ed0>, <Reaction EX_cynt_e at 0x7fd0d21b07d0>, <Reaction EX_galctn__D_e at 0x7fd0d21b09d0>, <Reaction EX_glyb_e at 0x7fd0d1a480d0>, <Reaction EX_ca2_e at 0x7fd0d231e090>, <Reaction EX_so3_e at 0x7fd0d23242d0>, <Reaction EX_ascb__L_e at 0x7fd0d235c3d0>, <Reaction EX_ala_B_e at 0x7fd0d13dbd90>, <Reaction EX_agm_e at 0x7fd0d262ee10>, <Reaction EX_minohp_e at 0x7fd0d262e8d0>, <Reaction EX_ppt_e at 0x7fd0d1c5dd10>, <Reaction EX_hxa_e at 0x7fd0d19fded0>, <Reaction EX_lyx__L_e at 0x7fd0d19f8ed0>, <Reaction EX_acmum_e at 0x7fd0d27a7b10>, <Reaction EX_dca_e at 0x7fd0d271a310>, <Reaction EX_all__D_e at 0x7fd0d271a2d0>, <Reaction EX_octa_e at 0x7fd0d1edfbd0>, <Reaction EX_gbbtn_e at 0x7fd0d1edfad0>, <Reaction EX_xylu__L_e at 0x7fd0d2a5e650>, <Reaction EX_gdp_e at 0x7fd0d2a5ead0>, <Reaction EX_gtp_e at 0x7fd0d2ad87d0>, <Reaction EX_tma_e at 0x7fd0d2346510>, <Reaction EX_fruur_e at 0x7fd0d27f8a90>, <Reaction EX_malttr_e at 0x7fd0d19e1b10>, <Reaction EX_cbi_e at 0x7fd0d2a1e450>, <Reaction EX_arbtn_fe3_e at 0x7fd0d2881550>, <Reaction EX_cpgn_e at 0x7fd0d14a43d0>, <Reaction EX_ch4_e at 0x7fd0d14a4890>, <Reaction EX_adocbl_e at 0x7fd0d14aaed0>, <Reaction EX_ppa_e at 0x7fd0d133b410>, <Reaction EX_ni2_e at 0x7fd0d22adf50>, <Reaction EX_no_e at 0x7fd0d22ada50>, <Reaction EX_fad_e at 0x7fd0d2721d50>, <Reaction EX_meoh_e at 0x7fd0d28727d0>, <Reaction EX_fe3dcit_e at 0x7fd0d2872590>, <Reaction EX_fe3hox_e at 0x7fd0d2872890>, <Reaction EX_fecrm_e at 0x7fd0d273dbd0>, <Reaction EX_feenter_e at 0x7fd0d2739690>, <Reaction EX_feoxam_e at 0x7fd0d2739790>, <Reaction EX_3amp_e at 0x7fd0d24ee790>, <Reaction EX_3gmp_e at 0x7fd0d24eee50>, <Reaction EX_3ump_e at 0x7fd0d22dd510>, <Reaction EX_cu2_e at 0x7fd0d2c3e190>, <Reaction EX_glyc__R_e at 0x7fd0d2c31690>, <Reaction EX_eca4colipa_e at 0x7fd0d2c39310>, <Reaction EX_mal__D_e at 0x7fd0d2b3c290>, <Reaction EX_sel_e at 0x7fd0d18db610>, <Reaction EX_hg2_e at 0x7fd0d2c81090>, <Reaction EX_cobalt2_e at 0x7fd0d28fc610>, <Reaction EX_pheme_e at 0x7fd0d2b12090>, <Reaction EX_mso3_e at 0x7fd0d2a26650>, <Reaction EX_23camp_e at 0x7fd0d29a52d0>, <Reaction EX_23cgmp_e at 0x7fd0d2a38f50>, <Reaction EX_23cump_e at 0x7fd0d23d8b10>, <Reaction EX_sulfac_e at 0x7fd0d2a38190>, <Reaction EX_butso3_e at 0x7fd0d2a2dfd0>, <Reaction EX_ethso3_e at 0x7fd0d24d5e50>, <Reaction EX_tym_e at 0x7fd0d2c930d0>, <Reaction EX_imp_e at 0x7fd0d280a350>, <Reaction EX_fe3hox_un_e at 0x7fd0d2c74b10>, <Reaction EX_23dappa_e at 0x7fd0d29dbfd0>, <Reaction EX_cd2_e at 0x7fd0d30ef050>, <Reaction EX_enter_e at 0x7fd0d26a5910>, <Reaction EX_fecrm_un_e at 0x7fd0d30eb9d0>, <Reaction EX_cgly_e at 0x7fd0d3154bd0>, <Reaction EX_chtbs_e at 0x7fd0d3151e90>, <Reaction EX_gmp_e at 0x7fd0d3151050>, <Reaction EX_h2o2_e at 0x7fd0d314e610>, <Reaction EX_ump_e at 0x7fd0d314e5d0>, <Reaction EX_pydam_e at 0x7fd0d314ea90>, <Reaction EX_frulys_e at 0x7fd0d3138510>, <Reaction EX_enlipa_e at 0x7fd0d312bb10>, <Reaction EX_hacolipa_e at 0x7fd0d23b6e10>, <Reaction EX_etha_e at 0x7fd0d318a4d0>, <Reaction EX_hdca_e at 0x7fd0d3185c50>, <Reaction EX_glcr_e at 0x7fd0d3185d10>, <Reaction EX_h2o_e at 0x7fd0d23563d0>, <Reaction EX_ala__D_e at 0x7fd0d234f790>, <Reaction EX_mnl_e at 0x7fd0d31656d0>, <Reaction EX_malt_e at 0x7fd0d3165310>, <Reaction EX_pnto__R_e at 0x7fd0d315e810>, <Reaction EX_asn__L_e at 0x7fd0d24caa90>, <Reaction EX_cit_e at 0x7fd0d24caad0>, <Reaction EX_mal__L_e at 0x7fd0d31d7450>, <Reaction EX_no2_e at 0x7fd0d2bdd550>, <Reaction EX_gam_e at 0x7fd0d31d13d0>, <Reaction EX_inost_e at 0x7fd0d31cf610>, <Reaction EX_mobd_e at 0x7fd0d2be5810>, <Reaction EX_so4_e at 0x7fd0d31cad50>, <Reaction EX_phe__L_e at 0x7fd0d2c36c90>, <Reaction EX_thr__L_e at 0x7fd0d31cc790>, <Reaction EX_uri_e at 0x7fd0d31c8790>, <Reaction EX_nh4_e at 0x7fd0d31c19d0>, <Reaction EX_ddca_e at 0x7fd0d31c6090>, <Reaction EX_r5p_e at 0x7fd0d31bbad0>, <Reaction EX_glyc2p_e at 0x7fd0d31bb9d0>, <Reaction EX_halipa_e at 0x7fd0d31b7550>, <Reaction EX_cmp_e at 0x7fd0d13f26d0>, <Reaction EX_malthx_e at 0x7fd0d31b5590>, <Reaction EX_csn_e at 0x7fd0d31b5710>, <Reaction EX_etoh_e at 0x7fd0d31b2a10>, <Reaction EX_g3pe_e at 0x7fd0d31af990>, <Reaction EX_pacald_e at 0x7fd0d250f1d0>, <Reaction EX_his__L_e at 0x7fd0d31af9d0>, <Reaction EX_k_e at 0x7fd0d2504550>, <Reaction EX_na1_e at 0x7fd0d2504090>, <Reaction EX_dmso_e at 0x7fd0d31a5e50>, <Reaction EX_12ppd__S_e at 0x7fd0d2846750>, <Reaction EX_pppn_e at 0x7fd0d31a3290>, <Reaction EX_acgam1p_e at 0x7fd0d31a11d0>, <Reaction EX_galt_e at 0x7fd0d31a3d10>, <Reaction EX_glcur1p_e at 0x7fd0d192ec10>, <Reaction EX_thrp_e at 0x7fd0d3213d10>, <Reaction EX_fald_e at 0x7fd0d320fe50>, <Reaction EX_pydxn_e at 0x7fd0d22c3dd0>, <Reaction EX_acgal_e at 0x7fd0d1742490>, <Reaction EX_so2_e at 0x7fd0d1733f50>, <Reaction EX_dms_e at 0x7fd0d1733e10>, <Reaction EX_acgal1p_e at 0x7fd0d31fd890>, <Reaction EX_cyan_e at 0x7fd0d31fdf50>, <Reaction EX_tyrp_e at 0x7fd0d31fc310>, <Reaction EX_uacgam_e at 0x7fd0d31fcd90>, <Reaction EX_udpacgal_e at 0x7fd0d31fa290>, <Reaction EX_udpg_e at 0x7fd0d31faf10>, <Reaction EX_udpgal_e at 0x7fd0d31fa5d0>, <Reaction EX_udpglcur_e at 0x7fd0d31f9550>, <Reaction EX_14glucan_e at 0x7fd0d31f9210>, <Reaction EX_pser__L_e at 0x7fd0d2301d90>, <Reaction EX_xmp_e at 0x7fd0d2301710>, <Reaction EX_damp_e at 0x7fd0d31f9090>, <Reaction EX_dimp_e at 0x7fd0d31f8c50>, <Reaction EX_isetac_e at 0x7fd0d18c7dd0>, <Reaction EX_aso3_e at 0x7fd0d31f55d0>, <Reaction EX_tcynt_e at 0x7fd0d18c7510>, <Reaction EX_fe3dhbzs_e at 0x7fd0d31f5510>, <Reaction EX_feoxam_un_e at 0x7fd0d31f3590>, <Reaction EX_g3pc_e at 0x7fd0d31f3950>, <Reaction EX_g3pg_e at 0x7fd0d31f3e90>, <Reaction EX_g3pi_e at 0x7fd0d31f3990>, <Reaction EX_g3ps_e at 0x7fd0d31ed110>, <Reaction EX_peamn_e at 0x7fd0d31f0e10>, <Reaction EX_34dhpac_e at 0x7fd0d31ed8d0>, <Reaction EX_cys__L_e at 0x7fd0d3241d90>, <Reaction EX_gsn_e at 0x7fd0d1580410>, <Reaction EX_orot_e at 0x7fd0d3233410>, <Reaction EX_manglyc_e at 0x7fd0d329b550>, <Reaction EX_metsox_R__L_e at 0x7fd0d3296310>, <Reaction EX_cl_e at 0x7fd0d1d70110>, <Reaction EX_dgmp_e at 0x7fd0d2086f90>, <Reaction EX_4hoxpacd_e at 0x7fd0d328c090>, <Reaction EX_3hpppn_e at 0x7fd0d328c050>, <Reaction EX_man6p_e at 0x7fd0d328c390>, <Reaction EX_tsul_e at 0x7fd0d328d850>, <Reaction EX_n2o_e at 0x7fd0d3286590>, <Reaction EX_maltttr_e at 0x7fd0d3281410>, <Reaction EX_alaala_e at 0x7fd0d2c0a890>, <Reaction EX_dtmp_e at 0x7fd0d3271610>, <Reaction DM_5drib_c at 0x7fd0d3270190>, <Reaction EX_lipoate_e at 0x7fd0d3270790>, <Reaction EX_pydx_e at 0x7fd0d326ce50>, <Reaction EX_g1p_e at 0x7fd0d326ced0>, <Reaction DM_oxam_c at 0x7fd0d23e2410>, <Reaction EX_o2_e at 0x7fd0d32cb350>, <Reaction EX_progly_e at 0x7fd0d1398890>, <Reaction EX_gal_bD_e at 0x7fd0d32c5150>, <Reaction EX_dump_e at 0x7fd0d32abcd0>, <Reaction EX_12ppd__R_e at 0x7fd0d32a6150>, <Reaction EX_o2s_e at 0x7fd0d32a4350>, <Reaction EX_gal1p_e at 0x7fd0d1d62450>, <Reaction EX_dcmp_e at 0x7fd0d32a0f90>, <Reaction EX_23ccmp_e at 0x7fd0d3319150>, <Reaction EX_3cmp_e at 0x7fd0d3313550>, <Reaction EX_urate_e at 0x7fd0d33022d0>, <Reaction EX_skm_e at 0x7fd0d3301610>, <Reaction EX_cpgn_un_e at 0x7fd0d3301990>, <Reaction EX_ag_e at 0x7fd0d32fe450>, <Reaction EX_cys__D_e at 0x7fd0d32fc490>, <Reaction EX_acser_e at 0x7fd0d1eb3790>, <Reaction EX_cu_e at 0x7fd0d1f53dd0>, <Reaction EX_arbtn_e at 0x7fd0d29b0ad0>, <Reaction EX_dopa_e at 0x7fd0d32f3650>, <Reaction EX_tartr__D_e at 0x7fd0d32eabd0>, <Reaction EX_galctn__L_e at 0x7fd0d32e9dd0>, <Reaction EX_hom__L_e at 0x7fd0d32e7290>, <Reaction EX_tungs_e at 0x7fd0d32e6550>, <Reaction EX_crn__D_e at 0x7fd0d195b110>, <Reaction EX_LalaDgluMdapDala_e at 0x7fd0d2940d10>, <Reaction EX_5dglcn_e at 0x7fd0d294cdd0>, <Reaction EX_LalaDgluMdap_e at 0x7fd0d33592d0>, <Reaction EX_psclys_e at 0x7fd0d3359b50>, <Reaction EX_anhgm_e at 0x7fd0d1710e50>, <Reaction DM_aacald_c at 0x7fd0d3350590>, <Reaction EX_ppal_e at 0x7fd0d33496d0>, <Reaction EX_slnt_e at 0x7fd0d27d4ad0>, <Reaction EX_LalaDglu_e at 0x7fd0d332d190>, <Reaction EX_5mtr_e at 0x7fd0d151e8d0>, <Reaction EX_LalaLglu_e at 0x7fd0d3391c90>, <Reaction EX_ttrcyc_e at 0x7fd0d33863d0>, <Reaction EX_mincyc_e at 0x7fd0d3382290>, <Reaction DM_4crsol_c at 0x7fd0d3382b10>, <Reaction EX_arbt_e at 0x7fd0d337ea90>, <Reaction EX_dxylnt_e at 0x7fd0d3372c50>, <Reaction EX_mththf_e at 0x7fd0d3369ed0>, <Reaction EX_doxrbcn_e at 0x7fd0d33d0050>, <Reaction EX_dhps_e at 0x7fd0d33cc190>, <Reaction EX_cs1_e at 0x7fd0d33cf3d0>, <Reaction EX_fusa_e at 0x7fd0d1ded790>, <Reaction EX_mepn_e at 0x7fd0d33cb250>, <Reaction EX_cm_e at 0x7fd0d33c8890>, <Reaction EX_novbcn_e at 0x7fd0d33c8a10>, <Reaction EX_2dglc_e at 0x7fd0d33bd590>, <Reaction EX_sq_e at 0x7fd0d33b8bd0>, <Reaction EX_4abzglu_e at 0x7fd0d33af310>, <Reaction EX_rfamp_e at 0x7fd0d33a7210>, <Reaction EX_metglcur_e at 0x7fd0d33a5550>, <Reaction EX_quin_e at 0x7fd0d33a5510>, <Reaction EX_3hpp_e at 0x7fd0d33a1090>, <Reaction DM_mththf_c at 0x7fd0d339d590>]\n",
      "{'EX_pi_e': 1000.0, 'EX_co2_e': 1000.0, 'EX_fe3_e': 1000.0, 'EX_h_e': 1000.0, 'EX_mn2_e': 1000.0, 'EX_fe2_e': 1000.0, 'EX_glc__D_e': 10.0, 'EX_zn2_e': 1000.0, 'EX_mg2_e': 1000.0, 'EX_ca2_e': 1000.0, 'EX_ni2_e': 1000.0, 'EX_cu2_e': 1000.0, 'EX_sel_e': 1000.0, 'EX_cobalt2_e': 1000.0, 'EX_h2o_e': 1000.0, 'EX_mobd_e': 1000.0, 'EX_so4_e': 1000.0, 'EX_nh4_e': 1000.0, 'EX_k_e': 1000.0, 'EX_na1_e': 1000.0, 'EX_cl_e': 1000.0, 'EX_o2_e': 1000.0, 'EX_tungs_e': 1000.0, 'EX_slnt_e': 1000.0}\n",
      "Maximize\n",
      "1.0*BIOMASS_Ec_iML1515_core_75p37M - 1.0*BIOMASS_Ec_iML1515_core_75p37M_reverse_35685\n"
     ]
    }
   ],
   "source": [
    "print(model.boundary)\n",
    "print(model.medium)\n",
    "print(model.objective)"
   ]
  },
  {
   "cell_type": "markdown",
   "metadata": {
    "id": "7aDQEJ-9mzjm",
    "jp-MarkdownHeadingCollapsed": true,
    "tags": []
   },
   "source": [
    "## Checking the objective of the model\n",
    "Optional step for exploring how the biomass is encoded. In some models, several biomass reactions are available and one has to make sure using the right one."
   ]
  },
  {
   "cell_type": "code",
   "execution_count": 21,
   "metadata": {
    "colab": {
     "base_uri": "https://localhost:8080/",
     "height": 1000
    },
    "executionInfo": {
     "elapsed": 3777,
     "status": "error",
     "timestamp": 1637844917086,
     "user": {
      "displayName": "Leon Faure",
      "photoUrl": "https://lh3.googleusercontent.com/a-/AOh14GgBYvOG4pPuY3bETF84PYqPSfos-yZCbq8n2clDIw=s64",
      "userId": "06483081905364613855"
     },
     "user_tz": -60
    },
    "id": "nVlIito_m5ot",
    "outputId": "011cb8b2-ad26-421e-d7ad-4591ba012eac"
   },
   "outputs": [
    {
     "name": "stdout",
     "output_type": "stream",
     "text": [
      "BIOMASS_Ec_iML1515_core_75p37M: 0.000223 10fthf_c + 2.6e-05 2fe2s_c + 0.000223 2ohph_c + 0.00026 4fe4s_c + 0.513689 ala__L_c + 0.000223 amet_c + 0.295792 arg__L_c + 0.241055 asn__L_c + 0.241055 asp__L_c + 75.55223 atp_c + 2e-06 btn_c + 0.005205 ca2_c + 0.005205 cl_c + 0.000576 coa_c + 2.5e-05 cobalt2_c + 0.133508 ctp_c + 0.000709 cu2_c + 0.09158 cys__L_c + 0.026166 datp_c + 0.027017 dctp_c + 0.027017 dgtp_c + 0.026166 dttp_c + 0.000223 fad_c + 0.006715 fe2_c + 0.007808 fe3_c + 0.26316 gln__L_c + 0.26316 glu__L_c + 0.612638 gly_c + 0.215096 gtp_c + 70.028756 h2o_c + 0.094738 his__L_c + 0.290529 ile__L_c + 0.195193 k_c + 0.019456 kdo2lipid4_e + 0.450531 leu__L_c + 0.343161 lys__L_c + 0.153686 met__L_c + 0.008675 mg2_c + 0.000223 mlthf_c + 0.000691 mn2_c + 7e-06 mobd_c + 0.013894 murein5px4p_p + 0.001831 nad_c + 0.000447 nadp_c + 0.013013 nh4_c + 0.000323 ni2_c + 0.063814 pe160_p + 0.075214 pe161_p + 0.185265 phe__L_c + 0.000223 pheme_c + 0.221055 pro__L_c + 0.000223 pydx5p_c + 0.000223 ribflv_c + 0.215792 ser__L_c + 0.000223 sheme_c + 0.004338 so4_c + 9.8e-05 succoa_c + 0.000223 thf_c + 0.000223 thmpp_c + 0.253687 thr__L_c + 0.056843 trp__L_c + 0.137896 tyr__L_c + 5.5e-05 udcpdp_c + 0.144104 utp_c + 0.423162 val__L_c + 0.000341 zn2_c --> 75.37723 adp_c + 75.37723 h_c + 75.37323 pi_c + 0.773903 ppi_c\n",
      "BIOMASS_Ec_iML1515_WT_75p37M: 0.000223 10fthf_c + 0.000223 2dmmql8_c + 2.5e-05 2fe2s_c + 0.000248 4fe4s_c + 0.000223 5mthf_c + 0.000279 accoa_c + 0.000223 adocbl_c + 0.499149 ala__L_c + 0.000223 amet_c + 0.28742 arg__L_c + 0.234232 asn__L_c + 0.234232 asp__L_c + 75.55223 atp_c + 2e-06 btn_c + 0.004952 ca2_c + 0.000223 chor_c + 0.004952 cl_c + 0.002944 clpn160_p + 0.00229 clpn161_p + 0.00118 clpn181_p + 0.000168 coa_c + 2.4e-05 cobalt2_c + 0.008151 colipa_e + 0.129799 ctp_c + 0.000674 cu2_c + 0.088988 cys__L_c + 0.024805 datp_c + 0.025612 dctp_c + 0.025612 dgtp_c + 0.024805 dttp_c + 0.000223 enter_c + 0.000223 fad_c + 0.006388 fe2_c + 0.007428 fe3_c + 0.255712 gln__L_c + 0.255712 glu__L_c + 0.595297 gly_c + 0.154187 glycogen_c + 0.000223 gthrd_c + 0.209121 gtp_c + 70.028756 h2o_c + 0.000223 hemeO_c + 0.092056 his__L_c + 0.282306 ile__L_c + 0.18569 k_c + 0.437778 leu__L_c + 3e-06 lipopb_c + 0.333448 lys__L_c + 3.1e-05 malcoa_c + 0.149336 met__L_c + 0.008253 mg2_c + 0.000223 mlthf_c + 0.000658 mn2_c + 7e-06 mobd_c + 7e-06 mococdp_c + 7e-06 mocogdp_c + 0.000223 mql8_c + 0.001345 murein3p3p_p + 0.000605 murein3px4p_p + 0.005381 murein4p4p_p + 0.005448 murein4px4p_p + 0.000673 murein4px4px4p_p + 0.001787 nad_c + 4.5e-05 nadh_c + 0.000112 nadp_c + 0.000335 nadph_c + 0.012379 nh4_c + 0.000307 ni2_c + 0.044164 pe160_p + 0.03435 pe161_p + 0.017704 pe181_p + 0.010599 pg160_p + 0.008244 pg161_p + 0.004249 pg181_p + 0.180021 phe__L_c + 0.000223 pheme_c + 0.214798 pro__L_c + 0.03327 ptrc_c + 0.000223 pydx5p_c + 0.000223 q8h2_c + 0.000223 ribflv_c + 0.209684 ser__L_c + 0.000223 sheme_c + 0.004126 so4_c + 0.006744 spmd_c + 9.8e-05 succoa_c + 0.000223 thf_c + 0.000223 thmpp_c + 0.246506 thr__L_c + 0.055234 trp__L_c + 0.133993 tyr__L_c + 5.5e-05 udcpdp_c + 0.140101 utp_c + 0.411184 val__L_c + 0.000324 zn2_c --> 75.37723 adp_c + 75.37723 h_c + 75.37323 pi_c + 0.749831 ppi_c\n"
     ]
    }
   ],
   "source": [
    "for reac in model.reactions:\n",
    "     if \"biomass\" in reac.id or \"BIOMASS\" in reac.id:\n",
    "        print(reac)"
   ]
  },
  {
   "cell_type": "markdown",
   "metadata": {
    "id": "ANBZP1Cexldq",
    "jp-MarkdownHeadingCollapsed": true,
    "tags": []
   },
   "source": [
    "## Screen outflowing and inflowing reactions"
   ]
  },
  {
   "cell_type": "markdown",
   "metadata": {
    "id": "h3iazVAft3xN"
   },
   "source": [
    "For each reaction that has different compartments in reactants and products (we call it \"transfer reactions\"), we annotate the reaction with a suffix \"i\" for inflowing (None --> e --> p --> c --> m) and \"o\" for outflowing (m --> c --> p --> e --> None). When the compartment-changing of metabolites is balanced, or not present, we use different suffix: \"for\" as in forward, designating the default way of the reaction (positive flux) and \"rev\" as in reverse, designating the opposite way (negative flux). We reverse the products and reactants so that the same reactions happen, ensuring that we have a positive flux for all reactions.\n",
    "\n",
    "To do so, we first define a dictionary for mapping which (reactant compartment, product compartment) pair is matching which suffix: \"io_dict\".\n",
    "\n",
    "Some reactions are problematic because they are showing both inflow and outflow simultaneously. To tackle this, we ignore the small molecules listed in \"unsignificant_mols\".\n",
    "\n",
    "For each reaction, we count the number of \"inflowing\" and \"outflowing\" pairs, and the way the reaction happens (forward, backward, reversible or other)."
   ]
  },
  {
   "cell_type": "code",
   "execution_count": 22,
   "metadata": {
    "colab": {
     "base_uri": "https://localhost:8080/"
    },
    "executionInfo": {
     "elapsed": 369,
     "status": "ok",
     "timestamp": 1637845057603,
     "user": {
      "displayName": "Leon Faure",
      "photoUrl": "https://lh3.googleusercontent.com/a-/AOh14GgBYvOG4pPuY3bETF84PYqPSfos-yZCbq8n2clDIw=s64",
      "userId": "06483081905364613855"
     },
     "user_tz": -60
    },
    "id": "i4_iPvMkjtQt",
    "outputId": "c59145f0-a24b-44b3-fccd-028dc3bdf05f",
    "scrolled": true
   },
   "outputs": [
    {
     "name": "stdout",
     "output_type": "stream",
     "text": [
      "{'r': 663, 'f': 2047, 'b': 0, 'o': 2}\n"
     ]
    }
   ],
   "source": [
    "io_dict = {\"_i\": [(None, \"e\"), (None, \"c\"), (\"e\",\"p\"), (\"p\", \"c\"), (\"e\", \"c\"), (\"c\", \"m\"), (\"p\", \"m\")],\n",
    "           \"_o\": [(\"c\", None), (\"e\", None), (\"p\", \"e\"), (\"c\", \"p\"), (\"c\", \"e\"), (\"m\", \"c\"), (\"m\", \"p\")]}\n",
    "\n",
    "unsignificant_mols = [\"h_p\", \"h_c\", \"pi_c\", \"pi_p\", \"adp_c\", \"h2o_c\", \"atp_c\"]\n",
    "\n",
    "# Will print a dictionary counting the reactions in reversible, forward, backward\n",
    "reac_id_to_io_count_and_way = screen_out_in(model, io_dict, unsignificant_mols)\n",
    "\n",
    "# To uncomment in order to see the structure of the screening dictionary\n",
    "# print(reac_id_to_io_count_and_way)"
   ]
  },
  {
   "cell_type": "markdown",
   "metadata": {
    "id": "9PeWILeF1OdD",
    "jp-MarkdownHeadingCollapsed": true,
    "tags": []
   },
   "source": [
    "## Duplicate reactions"
   ]
  },
  {
   "cell_type": "markdown",
   "metadata": {
    "id": "XHQ7lAg01vPz"
   },
   "source": [
    "Here we make a copy of the model,  named 'new_model', then perform the duplication of appropriate reactions.\n",
    "\n",
    "We duplicate all exchange reactions (excepted sink reactions) and reversible internal reactions (not unidirectional ones). We get the suffix '_i' for compartment changing reaction from the exterior to the cytoplasm, and '_o' for the other way. We also use the suffix \"_for\" and \"_rev\" for forward and reverse duplicated reactions that do not change compartment, or show equal compartment exchanges."
   ]
  },
  {
   "cell_type": "code",
   "execution_count": 23,
   "metadata": {
    "colab": {
     "base_uri": "https://localhost:8080/"
    },
    "executionInfo": {
     "elapsed": 1675,
     "status": "ok",
     "timestamp": 1637845063897,
     "user": {
      "displayName": "Leon Faure",
      "photoUrl": "https://lh3.googleusercontent.com/a-/AOh14GgBYvOG4pPuY3bETF84PYqPSfos-yZCbq8n2clDIw=s64",
      "userId": "06483081905364613855"
     },
     "user_tz": -60
    },
    "id": "2yZFlS1KjtQy",
    "outputId": "9d803a2c-6801-42df-ed90-b9d2e5e7b81b"
   },
   "outputs": [
    {
     "name": "stdout",
     "output_type": "stream",
     "text": [
      "The default model had 2712 reactions and the duplicated-reactions model has 3682 reactions.\n"
     ]
    }
   ],
   "source": [
    "new_model = duplicate_model(model, reac_id_to_io_count_and_way)"
   ]
  },
  {
   "cell_type": "markdown",
   "metadata": {
    "id": "DzOsRR1VdwX3",
    "jp-MarkdownHeadingCollapsed": true,
    "tags": []
   },
   "source": [
    "## Lower bounds check-up"
   ]
  },
  {
   "cell_type": "markdown",
   "metadata": {},
   "source": [
    "Here we simply check which reactions have a non-zero lower bound"
   ]
  },
  {
   "cell_type": "code",
   "execution_count": 24,
   "metadata": {
    "colab": {
     "base_uri": "https://localhost:8080/"
    },
    "executionInfo": {
     "elapsed": 459,
     "status": "ok",
     "timestamp": 1637845069429,
     "user": {
      "displayName": "Leon Faure",
      "photoUrl": "https://lh3.googleusercontent.com/a-/AOh14GgBYvOG4pPuY3bETF84PYqPSfos-yZCbq8n2clDIw=s64",
      "userId": "06483081905364613855"
     },
     "user_tz": -60
    },
    "id": "JSVnW4TCd9j8",
    "outputId": "bb5edbe2-fc42-4900-c424-75d24d7f77b4"
   },
   "outputs": [
    {
     "name": "stdout",
     "output_type": "stream",
     "text": [
      "reaction with non-zero lower bound: ATPM (6.86, 1000.0)\n"
     ]
    }
   ],
   "source": [
    "for reac in new_model.reactions:\n",
    "    if reac.lower_bound != 0:\n",
    "        print('reaction with non-zero lower bound:', reac.id, reac.bounds)\n",
    "for el in new_model.medium:\n",
    "    if new_model.reactions.get_by_id(el).lower_bound != 0:\n",
    "        print('medium reaction with non-zero lower bound:',el)"
   ]
  },
  {
   "cell_type": "markdown",
   "metadata": {
    "id": "qPouvr1R4zzz",
    "jp-MarkdownHeadingCollapsed": true,
    "tags": []
   },
   "source": [
    "## Get the default medium back on the duplicated-reactions model"
   ]
  },
  {
   "cell_type": "markdown",
   "metadata": {
    "id": "5-FP7o9W5CM6"
   },
   "source": [
    "The new model with duplicated exchange reactions is badly handled by COBRA for the medium object generation: all inflowing reactions are inside the medium object.\n",
    "\n",
    "There is a problem to be corrected: all upper bounds are set at 1000 by default. If we change this upper bound to 0 when we duplicate reactions, we get an empty medium object.\n",
    "\n",
    "The solution is to correct the medium of the duplicated model, all non-default medium exchange reactions put at 1e-300, so they are at a value very close to 0 but still appear in the medium object."
   ]
  },
  {
   "cell_type": "code",
   "execution_count": 25,
   "metadata": {
    "colab": {
     "base_uri": "https://localhost:8080/"
    },
    "executionInfo": {
     "elapsed": 404,
     "status": "ok",
     "timestamp": 1637845243483,
     "user": {
      "displayName": "Leon Faure",
      "photoUrl": "https://lh3.googleusercontent.com/a-/AOh14GgBYvOG4pPuY3bETF84PYqPSfos-yZCbq8n2clDIw=s64",
      "userId": "06483081905364613855"
     },
     "user_tz": -60
    },
    "id": "GXAjNXBvjtQ0",
    "outputId": "6fd904cb-430f-4a10-943a-322afe4b5990"
   },
   "outputs": [
    {
     "name": "stdout",
     "output_type": "stream",
     "text": [
      "1000.0\n",
      "1000.0\n",
      "1000.0\n",
      "1000.0\n",
      "1000.0\n",
      "1000.0\n",
      "10.0\n",
      "1000.0\n",
      "1000.0\n",
      "1000.0\n",
      "1000.0\n",
      "1000.0\n",
      "1000.0\n",
      "1000.0\n",
      "1000.0\n",
      "1000.0\n",
      "1000.0\n",
      "1000.0\n",
      "1000.0\n",
      "1000.0\n",
      "1000.0\n",
      "1000.0\n",
      "1000.0\n",
      "1000.0\n",
      "{'EX_pi_e_i': 1000.0, 'EX_co2_e_i': 1000.0, 'EX_met__L_e_i': 1e-300, 'EX_metsox_S__L_e_i': 1e-300, 'EX_acgam_e_i': 1e-300, 'EX_cellb_e_i': 1e-300, 'EX_crn_e_i': 1e-300, 'EX_hxan_e_i': 1e-300, 'EX_ile__L_e_i': 1e-300, 'EX_chol_e_i': 1e-300, 'EX_fe3_e_i': 1000.0, 'EX_lac__L_e_i': 1e-300, 'EX_leu__L_e_i': 1e-300, 'EX_glcn_e_i': 1e-300, 'EX_no3_e_i': 1e-300, 'EX_h_e_i': 1000.0, 'EX_orn_e_i': 1e-300, 'EX_gln__L_e_i': 1e-300, 'EX_pro__L_e_i': 1e-300, 'EX_glyc_e_i': 1e-300, 'EX_man_e_i': 1e-300, 'EX_ade_e_i': 1e-300, 'EX_mn2_e_i': 1000.0, 'EX_4abut_e_i': 1e-300, 'EX_ac_e_i': 1e-300, 'EX_akg_e_i': 1e-300, 'EX_ala__L_e_i': 1e-300, 'EX_arg__L_e_i': 1e-300, 'EX_asp__L_e_i': 1e-300, 'EX_pyr_e_i': 1e-300, 'EX_succ_e_i': 1e-300, 'EX_thymd_e_i': 1e-300, 'EX_rib__D_e_i': 1e-300, 'EX_tyr__L_e_i': 1e-300, 'EX_cytd_e_i': 1e-300, 'EX_dcyt_e_i': 1e-300, 'EX_fum_e_i': 1e-300, 'EX_sbt__D_e_i': 1e-300, 'EX_glu__L_e_i': 1e-300, 'EX_gua_e_i': 1e-300, 'EX_btn_e_i': 1e-300, 'EX_ptrc_e_i': 1e-300, 'EX_spmd_e_i': 1e-300, 'EX_thym_e_i': 1e-300, 'EX_xtsn_e_i': 1e-300, 'EX_fe2_e_i': 1000.0, 'EX_glc__D_e_i': 10.0, 'EX_alltn_e_i': 1e-300, 'EX_ura_e_i': 1e-300, 'EX_val__L_e_i': 1e-300, 'EX_xan_e_i': 1e-300, 'EX_dgsn_e_i': 1e-300, 'EX_arab__L_e_i': 1e-300, 'EX_fru_e_i': 1e-300, 'EX_gal_e_i': 1e-300, 'EX_xyl__D_e_i': 1e-300, 'EX_duri_e_i': 1e-300, 'EX_for_e_i': 1e-300, 'EX_gly_e_i': 1e-300, 'EX_h2_e_i': 1e-300, 'EX_lys__L_e_i': 1e-300, 'EX_ser__L_e_i': 1e-300, 'EX_thm_e_i': 1e-300, 'EX_trp__L_e_i': 1e-300, 'EX_din_e_i': 1e-300, 'EX_fmn_e_i': 1e-300, 'EX_gthox_e_i': 1e-300, 'EX_tmao_e_i': 1e-300, 'EX_acald_e_i': 1e-300, 'EX_melib_e_i': 1e-300, 'EX_sucr_e_i': 1e-300, 'EX_tre_e_i': 1e-300, 'EX_zn2_e_i': 1000.0, 'EX_hdcea_e_i': 1e-300, 'EX_lac__D_e_i': 1e-300, 'EX_ttdcea_e_i': 1e-300, 'EX_h2s_e_i': 1e-300, 'EX_gthrd_e_i': 1e-300, 'EX_26dap__M_e_i': 1e-300, 'EX_acnam_e_i': 1e-300, 'EX_amp_e_i': 1e-300, 'EX_dha_e_i': 1e-300, 'EX_fuc__L_e_i': 1e-300, 'EX_met__D_e_i': 1e-300, 'EX_tartr__L_e_i': 1e-300, 'EX_taur_e_i': 1e-300, 'EX_maltpt_e_i': 1e-300, 'EX_glyald_e_i': 1e-300, 'EX_glcur_e_i': 1e-300, 'EX_nmn_e_i': 1e-300, 'EX_urea_e_i': 1e-300, 'EX_f6p_e_i': 1e-300, 'EX_rmn_e_i': 1e-300, 'EX_ttdca_e_i': 1e-300, 'EX_glyclt_e_i': 1e-300, 'EX_g6p_e_i': 1e-300, 'EX_2ddglcn_e_i': 1e-300, 'EX_mmet_e_i': 1e-300, 'EX_galct__D_e_i': 1e-300, 'EX_idon__L_e_i': 1e-300, 'EX_indole_e_i': 1e-300, 'EX_3hcinnm_e_i': 1e-300, 'EX_acac_e_i': 1e-300, 'EX_acmana_e_i': 1e-300, 'EX_galur_e_i': 1e-300, 'EX_adn_e_i': 1e-300, 'EX_ins_e_i': 1e-300, 'EX_mg2_e_i': 1000.0, 'EX_glyc3p_e_i': 1e-300, 'EX_but_e_i': 1e-300, 'EX_lcts_e_i': 1e-300, 'EX_ocdca_e_i': 1e-300, 'EX_cbl1_e_i': 1e-300, 'EX_nac_e_i': 1e-300, 'EX_dad_2_e_i': 1e-300, 'EX_ser__D_e_i': 1e-300, 'EX_gam6p_e_i': 1e-300, 'EX_15dap_e_i': 1e-300, 'EX_ocdcea_e_i': 1e-300, 'EX_cynt_e_i': 1e-300, 'EX_galctn__D_e_i': 1e-300, 'EX_glyb_e_i': 1e-300, 'EX_ca2_e_i': 1000.0, 'EX_so3_e_i': 1e-300, 'EX_ascb__L_e_i': 1e-300, 'EX_ala_B_e_i': 1e-300, 'EX_agm_e_i': 1e-300, 'EX_minohp_e_i': 1e-300, 'EX_ppt_e_i': 1e-300, 'EX_hxa_e_i': 1e-300, 'EX_lyx__L_e_i': 1e-300, 'EX_acmum_e_i': 1e-300, 'EX_dca_e_i': 1e-300, 'EX_all__D_e_i': 1e-300, 'EX_octa_e_i': 1e-300, 'EX_gbbtn_e_i': 1e-300, 'EX_xylu__L_e_i': 1e-300, 'EX_gdp_e_i': 1e-300, 'EX_gtp_e_i': 1e-300, 'EX_tma_e_i': 1e-300, 'EX_fruur_e_i': 1e-300, 'EX_malttr_e_i': 1e-300, 'EX_cbi_e_i': 1e-300, 'EX_arbtn_fe3_e_i': 1e-300, 'EX_cpgn_e_i': 1e-300, 'EX_ch4_e_i': 1e-300, 'EX_adocbl_e_i': 1e-300, 'EX_ppa_e_i': 1e-300, 'EX_ni2_e_i': 1000.0, 'EX_no_e_i': 1e-300, 'EX_fad_e_i': 1e-300, 'EX_meoh_e_i': 1e-300, 'EX_fe3dcit_e_i': 1e-300, 'EX_fe3hox_e_i': 1e-300, 'EX_fecrm_e_i': 1e-300, 'EX_feenter_e_i': 1e-300, 'EX_feoxam_e_i': 1e-300, 'EX_3amp_e_i': 1e-300, 'EX_3gmp_e_i': 1e-300, 'EX_3ump_e_i': 1e-300, 'EX_cu2_e_i': 1000.0, 'EX_glyc__R_e_i': 1e-300, 'EX_eca4colipa_e_i': 1e-300, 'EX_mal__D_e_i': 1e-300, 'EX_sel_e_i': 1000.0, 'EX_hg2_e_i': 1e-300, 'EX_cobalt2_e_i': 1000.0, 'EX_pheme_e_i': 1e-300, 'EX_mso3_e_i': 1e-300, 'EX_23camp_e_i': 1e-300, 'EX_23cgmp_e_i': 1e-300, 'EX_23cump_e_i': 1e-300, 'EX_sulfac_e_i': 1e-300, 'EX_butso3_e_i': 1e-300, 'EX_ethso3_e_i': 1e-300, 'EX_tym_e_i': 1e-300, 'EX_imp_e_i': 1e-300, 'EX_fe3hox_un_e_i': 1e-300, 'EX_23dappa_e_i': 1e-300, 'EX_cd2_e_i': 1e-300, 'EX_enter_e_i': 1e-300, 'EX_fecrm_un_e_i': 1e-300, 'EX_cgly_e_i': 1e-300, 'EX_chtbs_e_i': 1e-300, 'EX_gmp_e_i': 1e-300, 'EX_h2o2_e_i': 1e-300, 'EX_ump_e_i': 1e-300, 'EX_pydam_e_i': 1e-300, 'EX_frulys_e_i': 1e-300, 'EX_enlipa_e_i': 1e-300, 'EX_hacolipa_e_i': 1e-300, 'EX_etha_e_i': 1e-300, 'EX_hdca_e_i': 1e-300, 'EX_glcr_e_i': 1e-300, 'EX_h2o_e_i': 1000.0, 'EX_ala__D_e_i': 1e-300, 'EX_mnl_e_i': 1e-300, 'EX_malt_e_i': 1e-300, 'EX_pnto__R_e_i': 1e-300, 'EX_asn__L_e_i': 1e-300, 'EX_cit_e_i': 1e-300, 'EX_mal__L_e_i': 1e-300, 'EX_no2_e_i': 1e-300, 'EX_gam_e_i': 1e-300, 'EX_inost_e_i': 1e-300, 'EX_mobd_e_i': 1000.0, 'EX_so4_e_i': 1000.0, 'EX_phe__L_e_i': 1e-300, 'EX_thr__L_e_i': 1e-300, 'EX_uri_e_i': 1e-300, 'EX_nh4_e_i': 1000.0, 'EX_ddca_e_i': 1e-300, 'EX_r5p_e_i': 1e-300, 'EX_glyc2p_e_i': 1e-300, 'EX_halipa_e_i': 1e-300, 'EX_cmp_e_i': 1e-300, 'EX_malthx_e_i': 1e-300, 'EX_csn_e_i': 1e-300, 'EX_etoh_e_i': 1e-300, 'EX_g3pe_e_i': 1e-300, 'EX_pacald_e_i': 1e-300, 'EX_his__L_e_i': 1e-300, 'EX_k_e_i': 1000.0, 'EX_na1_e_i': 1000.0, 'EX_dmso_e_i': 1e-300, 'EX_12ppd__S_e_i': 1e-300, 'EX_pppn_e_i': 1e-300, 'EX_acgam1p_e_i': 1e-300, 'EX_galt_e_i': 1e-300, 'EX_glcur1p_e_i': 1e-300, 'EX_thrp_e_i': 1e-300, 'EX_fald_e_i': 1e-300, 'EX_pydxn_e_i': 1e-300, 'EX_acgal_e_i': 1e-300, 'EX_so2_e_i': 1e-300, 'EX_dms_e_i': 1e-300, 'EX_acgal1p_e_i': 1e-300, 'EX_cyan_e_i': 1e-300, 'EX_tyrp_e_i': 1e-300, 'EX_uacgam_e_i': 1e-300, 'EX_udpacgal_e_i': 1e-300, 'EX_udpg_e_i': 1e-300, 'EX_udpgal_e_i': 1e-300, 'EX_udpglcur_e_i': 1e-300, 'EX_14glucan_e_i': 1e-300, 'EX_pser__L_e_i': 1e-300, 'EX_xmp_e_i': 1e-300, 'EX_damp_e_i': 1e-300, 'EX_dimp_e_i': 1e-300, 'EX_isetac_e_i': 1e-300, 'EX_aso3_e_i': 1e-300, 'EX_tcynt_e_i': 1e-300, 'EX_fe3dhbzs_e_i': 1e-300, 'EX_feoxam_un_e_i': 1e-300, 'EX_g3pc_e_i': 1e-300, 'EX_g3pg_e_i': 1e-300, 'EX_g3pi_e_i': 1e-300, 'EX_g3ps_e_i': 1e-300, 'EX_peamn_e_i': 1e-300, 'EX_34dhpac_e_i': 1e-300, 'EX_cys__L_e_i': 1e-300, 'EX_gsn_e_i': 1e-300, 'EX_orot_e_i': 1e-300, 'EX_manglyc_e_i': 1e-300, 'EX_metsox_R__L_e_i': 1e-300, 'EX_cl_e_i': 1000.0, 'EX_dgmp_e_i': 1e-300, 'EX_4hoxpacd_e_i': 1e-300, 'EX_3hpppn_e_i': 1e-300, 'EX_man6p_e_i': 1e-300, 'EX_tsul_e_i': 1e-300, 'EX_n2o_e_i': 1e-300, 'EX_maltttr_e_i': 1e-300, 'EX_alaala_e_i': 1e-300, 'EX_dtmp_e_i': 1e-300, 'EX_lipoate_e_i': 1e-300, 'EX_pydx_e_i': 1e-300, 'EX_g1p_e_i': 1e-300, 'EX_o2_e_i': 1000.0, 'EX_progly_e_i': 1e-300, 'EX_gal_bD_e_i': 1e-300, 'EX_dump_e_i': 1e-300, 'EX_12ppd__R_e_i': 1e-300, 'EX_o2s_e_i': 1e-300, 'EX_gal1p_e_i': 1e-300, 'EX_dcmp_e_i': 1e-300, 'EX_23ccmp_e_i': 1e-300, 'EX_3cmp_e_i': 1e-300, 'EX_urate_e_i': 1e-300, 'EX_skm_e_i': 1e-300, 'EX_cpgn_un_e_i': 1e-300, 'EX_ag_e_i': 1e-300, 'EX_cys__D_e_i': 1e-300, 'EX_acser_e_i': 1e-300, 'EX_cu_e_i': 1e-300, 'EX_arbtn_e_i': 1e-300, 'EX_dopa_e_i': 1e-300, 'EX_tartr__D_e_i': 1e-300, 'EX_galctn__L_e_i': 1e-300, 'EX_hom__L_e_i': 1e-300, 'EX_tungs_e_i': 1000.0, 'EX_crn__D_e_i': 1e-300, 'EX_LalaDgluMdapDala_e_i': 1e-300, 'EX_5dglcn_e_i': 1e-300, 'EX_LalaDgluMdap_e_i': 1e-300, 'EX_psclys_e_i': 1e-300, 'EX_anhgm_e_i': 1e-300, 'EX_ppal_e_i': 1e-300, 'EX_slnt_e_i': 1000.0, 'EX_LalaDglu_e_i': 1e-300, 'EX_5mtr_e_i': 1e-300, 'EX_LalaLglu_e_i': 1e-300, 'EX_ttrcyc_e_i': 1e-300, 'EX_mincyc_e_i': 1e-300, 'EX_arbt_e_i': 1e-300, 'EX_dxylnt_e_i': 1e-300, 'EX_mththf_e_i': 1e-300, 'EX_doxrbcn_e_i': 1e-300, 'EX_dhps_e_i': 1e-300, 'EX_cs1_e_i': 1e-300, 'EX_fusa_e_i': 1e-300, 'EX_mepn_e_i': 1e-300, 'EX_cm_e_i': 1e-300, 'EX_novbcn_e_i': 1e-300, 'EX_2dglc_e_i': 1e-300, 'EX_sq_e_i': 1e-300, 'EX_4abzglu_e_i': 1e-300, 'EX_rfamp_e_i': 1e-300, 'EX_metglcur_e_i': 1e-300, 'EX_quin_e_i': 1e-300, 'EX_3hpp_e_i': 1e-300}\n"
     ]
    }
   ],
   "source": [
    "default_med = model.medium\n",
    "new_med = new_model.medium\n",
    "correct_med =  correct_duplicated_med(default_med, new_med)\n",
    "new_model.medium = correct_med\n",
    "print(new_model.medium)"
   ]
  },
  {
   "cell_type": "markdown",
   "metadata": {
    "id": "ncdqBoMX7h8V",
    "jp-MarkdownHeadingCollapsed": true,
    "tags": []
   },
   "source": [
    "## Medium check-up (default model V.S. duplicated-reaction model)"
   ]
  },
  {
   "cell_type": "markdown",
   "metadata": {
    "id": "I3VvGBRU71_6"
   },
   "source": [
    "Here we compare the results with randomized medium objects for both models, reporting the absolute difference between the two."
   ]
  },
  {
   "cell_type": "code",
   "execution_count": 26,
   "metadata": {
    "colab": {
     "base_uri": "https://localhost:8080/"
    },
    "executionInfo": {
     "elapsed": 875,
     "status": "ok",
     "timestamp": 1637845911853,
     "user": {
      "displayName": "Leon Faure",
      "photoUrl": "https://lh3.googleusercontent.com/a-/AOh14GgBYvOG4pPuY3bETF84PYqPSfos-yZCbq8n2clDIw=s64",
      "userId": "06483081905364613855"
     },
     "user_tz": -60
    },
    "id": "gqIIARtsjtQ0",
    "outputId": "9fd103d3-e923-4364-c9c6-9fc5624c0eb9"
   },
   "outputs": [
    {
     "name": "stdout",
     "output_type": "stream",
     "text": [
      "0.3692496473883969 0.36924964738840355 diff =  6.661338147750939e-15\n",
      "0.08745529196942173 0.08745529196942319 diff =  1.457167719820518e-15\n",
      "0.45251524105939067 0.45251524105939894 diff =  8.271161533457416e-15\n",
      "0.3520250542783163 0.35202505427832625 diff =  9.936496070395151e-15\n",
      "0.7873623549879809 0.7873623549880019 diff =  2.098321516541546e-14\n",
      "0.25037920551964943 0.2503792055196539 diff =  4.496403249731884e-15\n",
      "0.5755530272256144 0.5755530272256257 diff =  1.1324274851176597e-14\n",
      "0.24708666582567942 0.24708666582568484 diff =  5.412337245047638e-15\n",
      "0.8737974348363089 0.8737974348363232 diff =  1.432187701766452e-14\n",
      "0.7805728235038698 0.7805728235038877 diff =  1.787459069646502e-14\n"
     ]
    }
   ],
   "source": [
    "for i in range(10):\n",
    "    s, new_s = change_medium(model, new_model, i*3)\n",
    "    if s != None and new_s != None:\n",
    "        print(s, new_s, \"diff = \", abs(s-new_s))\n",
    "    elif s != None:\n",
    "        print(\"infeasible duplicated medium\")\n",
    "    elif new_s != None:\n",
    "        print(\"infeasible default medium\")\n",
    "    elif s == None and new_s == None:\n",
    "        print(\"Both medium are impossible\")"
   ]
  },
  {
   "cell_type": "markdown",
   "metadata": {
    "id": "VYhkZHtY8Yoj",
    "jp-MarkdownHeadingCollapsed": true,
    "tags": []
   },
   "source": [
    "## Saving the duplicated-reactions model"
   ]
  },
  {
   "cell_type": "code",
   "execution_count": 27,
   "metadata": {
    "executionInfo": {
     "elapsed": 546,
     "status": "ok",
     "timestamp": 1637846054460,
     "user": {
      "displayName": "Leon Faure",
      "photoUrl": "https://lh3.googleusercontent.com/a-/AOh14GgBYvOG4pPuY3bETF84PYqPSfos-yZCbq8n2clDIw=s64",
      "userId": "06483081905364613855"
     },
     "user_tz": -60
    },
    "id": "ApCLy7DFHG6e"
   },
   "outputs": [],
   "source": [
    "new_model.repair() # rebuild indices and pointers in the model if necessary"
   ]
  },
  {
   "cell_type": "code",
   "execution_count": 28,
   "metadata": {
    "colab": {
     "base_uri": "https://localhost:8080/"
    },
    "executionInfo": {
     "elapsed": 1344,
     "status": "ok",
     "timestamp": 1635154664218,
     "user": {
      "displayName": "Leon Faure",
      "photoUrl": "https://lh3.googleusercontent.com/a-/AOh14GgBYvOG4pPuY3bETF84PYqPSfos-yZCbq8n2clDIw=s64",
      "userId": "06483081905364613855"
     },
     "user_tz": -120
    },
    "id": "WlobY0F-8eKW",
    "outputId": "cf789a4b-bb82-421c-fb77-36be294020db"
   },
   "outputs": [
    {
     "name": "stdout",
     "output_type": "stream",
     "text": [
      "Original model's location: Dataset_input/iML1515.xml\n",
      "Duplicated model's location: Dataset_input/iML1515_duplicated.xml\n"
     ]
    }
   ],
   "source": [
    "print(\"Original model's location: \" + model_path)\n",
    "new_name = model_path[:-4] + \"_duplicated\" + model_path[-4:]\n",
    "cobra.io.write_sbml_model(new_model, new_name)\n",
    "print(\"Duplicated model's location: \" + new_name)"
   ]
  }
 ],
 "metadata": {
  "colab": {
   "collapsed_sections": [],
   "name": "SBML_for_AMN.ipynb",
   "provenance": [],
   "toc_visible": true
  },
  "kernelspec": {
   "display_name": "Python 3 (ipykernel)",
   "language": "python",
   "name": "python3"
  },
  "language_info": {
   "codemirror_mode": {
    "name": "ipython",
    "version": 3
   },
   "file_extension": ".py",
   "mimetype": "text/x-python",
   "name": "python",
   "nbconvert_exporter": "python",
   "pygments_lexer": "ipython3",
   "version": "3.10.8"
  }
 },
 "nbformat": 4,
 "nbformat_minor": 4
}
